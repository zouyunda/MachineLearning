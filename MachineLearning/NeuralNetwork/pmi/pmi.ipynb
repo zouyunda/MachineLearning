{
 "cells": [
  {
   "cell_type": "markdown",
   "metadata": {},
   "source": [
    "# Configuring and Running a Simple Neural Network: Binary Classification\n",
    "The following example illustrates the most important points of configuring, running, and assessing the performance of a NN.  \n",
    "\n",
    "This example uses binary classification, which simply means that the network will categorize the output layer into either diabetic or not diabetic.  Other archietctures will neural networks are possible, including multicategorical classification and numeric estimation."
   ]
  },
  {
   "cell_type": "markdown",
   "metadata": {},
   "source": [
    "## Read in the Data"
   ]
  },
  {
   "cell_type": "code",
   "execution_count": 3,
   "metadata": {},
   "outputs": [],
   "source": [
    "import pandas as pd\n",
    "df = pd.read_csv('pima_cleaned-1.csv')"
   ]
  },
  {
   "cell_type": "code",
   "execution_count": 4,
   "metadata": {},
   "outputs": [
    {
     "data": {
      "text/html": [
       "<div>\n",
       "<style scoped>\n",
       "    .dataframe tbody tr th:only-of-type {\n",
       "        vertical-align: middle;\n",
       "    }\n",
       "\n",
       "    .dataframe tbody tr th {\n",
       "        vertical-align: top;\n",
       "    }\n",
       "\n",
       "    .dataframe thead th {\n",
       "        text-align: right;\n",
       "    }\n",
       "</style>\n",
       "<table border=\"1\" class=\"dataframe\">\n",
       "  <thead>\n",
       "    <tr style=\"text-align: right;\">\n",
       "      <th></th>\n",
       "      <th>xpregnant</th>\n",
       "      <th>glucose</th>\n",
       "      <th>diastolic</th>\n",
       "      <th>tricep</th>\n",
       "      <th>insulin</th>\n",
       "      <th>bmi</th>\n",
       "      <th>pedigree</th>\n",
       "      <th>age</th>\n",
       "      <th>diabetes</th>\n",
       "    </tr>\n",
       "  </thead>\n",
       "  <tbody>\n",
       "    <tr>\n",
       "      <th>0</th>\n",
       "      <td>2</td>\n",
       "      <td>108</td>\n",
       "      <td>62</td>\n",
       "      <td>32</td>\n",
       "      <td>56</td>\n",
       "      <td>25.2</td>\n",
       "      <td>0.128</td>\n",
       "      <td>21</td>\n",
       "      <td>0</td>\n",
       "    </tr>\n",
       "    <tr>\n",
       "      <th>1</th>\n",
       "      <td>0</td>\n",
       "      <td>137</td>\n",
       "      <td>68</td>\n",
       "      <td>14</td>\n",
       "      <td>148</td>\n",
       "      <td>24.8</td>\n",
       "      <td>0.143</td>\n",
       "      <td>21</td>\n",
       "      <td>0</td>\n",
       "    </tr>\n",
       "    <tr>\n",
       "      <th>2</th>\n",
       "      <td>1</td>\n",
       "      <td>89</td>\n",
       "      <td>66</td>\n",
       "      <td>23</td>\n",
       "      <td>94</td>\n",
       "      <td>28.1</td>\n",
       "      <td>0.167</td>\n",
       "      <td>21</td>\n",
       "      <td>0</td>\n",
       "    </tr>\n",
       "    <tr>\n",
       "      <th>3</th>\n",
       "      <td>0</td>\n",
       "      <td>139</td>\n",
       "      <td>62</td>\n",
       "      <td>17</td>\n",
       "      <td>210</td>\n",
       "      <td>22.1</td>\n",
       "      <td>0.207</td>\n",
       "      <td>21</td>\n",
       "      <td>0</td>\n",
       "    </tr>\n",
       "    <tr>\n",
       "      <th>4</th>\n",
       "      <td>4</td>\n",
       "      <td>99</td>\n",
       "      <td>76</td>\n",
       "      <td>15</td>\n",
       "      <td>51</td>\n",
       "      <td>23.2</td>\n",
       "      <td>0.223</td>\n",
       "      <td>21</td>\n",
       "      <td>0</td>\n",
       "    </tr>\n",
       "  </tbody>\n",
       "</table>\n",
       "</div>"
      ],
      "text/plain": [
       "   xpregnant  glucose  diastolic  tricep  insulin   bmi  pedigree  age  \\\n",
       "0          2      108         62      32       56  25.2     0.128   21   \n",
       "1          0      137         68      14      148  24.8     0.143   21   \n",
       "2          1       89         66      23       94  28.1     0.167   21   \n",
       "3          0      139         62      17      210  22.1     0.207   21   \n",
       "4          4       99         76      15       51  23.2     0.223   21   \n",
       "\n",
       "   diabetes  \n",
       "0         0  \n",
       "1         0  \n",
       "2         0  \n",
       "3         0  \n",
       "4         0  "
      ]
     },
     "execution_count": 4,
     "metadata": {},
     "output_type": "execute_result"
    }
   ],
   "source": [
    "df.head()"
   ]
  },
  {
   "cell_type": "code",
   "execution_count": 5,
   "metadata": {},
   "outputs": [
    {
     "data": {
      "text/plain": [
       "(392, 9)"
      ]
     },
     "execution_count": 5,
     "metadata": {},
     "output_type": "execute_result"
    }
   ],
   "source": [
    "df.shape"
   ]
  },
  {
   "cell_type": "code",
   "execution_count": 6,
   "metadata": {},
   "outputs": [
    {
     "data": {
      "text/plain": [
       "Index(['xpregnant', 'glucose', 'diastolic', 'tricep', 'insulin', 'bmi',\n",
       "       'pedigree', 'age', 'diabetes'],\n",
       "      dtype='object')"
      ]
     },
     "execution_count": 6,
     "metadata": {},
     "output_type": "execute_result"
    }
   ],
   "source": [
    "df.columns"
   ]
  },
  {
   "cell_type": "markdown",
   "metadata": {},
   "source": [
    "## Check for missing values\n",
    "This step is very important, since a NN my fail if the data contain missing values."
   ]
  },
  {
   "cell_type": "code",
   "execution_count": 7,
   "metadata": {},
   "outputs": [
    {
     "data": {
      "text/plain": [
       "xpregnant    0\n",
       "glucose      0\n",
       "diastolic    0\n",
       "tricep       0\n",
       "insulin      0\n",
       "bmi          0\n",
       "pedigree     0\n",
       "age          0\n",
       "diabetes     0\n",
       "dtype: int64"
      ]
     },
     "execution_count": 7,
     "metadata": {},
     "output_type": "execute_result"
    }
   ],
   "source": [
    "df.isnull().sum()"
   ]
  },
  {
   "cell_type": "markdown",
   "metadata": {},
   "source": [
    "Since there are no missing values, we can move forward."
   ]
  },
  {
   "cell_type": "markdown",
   "metadata": {},
   "source": [
    "## Divide the Data into X and y DataFrames"
   ]
  },
  {
   "cell_type": "code",
   "execution_count": 22,
   "metadata": {},
   "outputs": [],
   "source": [
    "X = df[['xpregnant', 'bmi','age']]\n",
    "y = df['diabetes']"
   ]
  },
  {
   "cell_type": "markdown",
   "metadata": {},
   "source": [
    "## Split the dataset into the Training set and Test set\n",
    "Just like other machine learn techniques, neural networks are susceptible to over fitting.  To avoid overfitting our model, we will divide the data set into a train and test."
   ]
  },
  {
   "cell_type": "code",
   "execution_count": 23,
   "metadata": {},
   "outputs": [],
   "source": [
    "from sklearn.model_selection import train_test_split\n",
    "X_train, X_test, y_train, y_test = train_test_split(X, y, test_size = 0.2, \\\n",
    "        random_state = 0)"
   ]
  },
  {
   "cell_type": "markdown",
   "metadata": {},
   "source": [
    "## Scale the data\n",
    "Any feature data that are continuous (e.g., integers or reals) must be scaled before using them in an ANN.  The StandardScaler transforms the data so that the mean is 0 and the standard deviation is 1.\n",
    "\n",
    "Note that binaries do NOT need to be scaled!"
   ]
  },
  {
   "cell_type": "code",
   "execution_count": 20,
   "metadata": {},
   "outputs": [],
   "source": [
    "from sklearn.preprocessing import StandardScaler\n",
    "sc = StandardScaler()\n",
    "X_scaled = sc.fit_transform(X)\n",
    "X_train = sc.fit_transform(X_train)\n",
    "X_test = sc.transform(X_test)"
   ]
  },
  {
   "cell_type": "code",
   "execution_count": 21,
   "metadata": {},
   "outputs": [
    {
     "data": {
      "text/plain": [
       "3"
      ]
     },
     "execution_count": 21,
     "metadata": {},
     "output_type": "execute_result"
    }
   ],
   "source": [
    "X_train.shape[1] #  <--Run this, which returns the second dimension\n",
    "\n",
    "# Remember, shape returns (rows,columns). This returns the number of columns, which\n",
    "# we will need in a minute"
   ]
  },
  {
   "cell_type": "markdown",
   "metadata": {},
   "source": [
    "## Import Keras Libraries"
   ]
  },
  {
   "cell_type": "code",
   "execution_count": 22,
   "metadata": {},
   "outputs": [
    {
     "ename": "ModuleNotFoundError",
     "evalue": "No module named 'keras'",
     "output_type": "error",
     "traceback": [
      "\u001b[0;31m---------------------------------------------------------------------------\u001b[0m",
      "\u001b[0;31mModuleNotFoundError\u001b[0m                       Traceback (most recent call last)",
      "\u001b[0;32m<ipython-input-22-6724c5b7f2b7>\u001b[0m in \u001b[0;36m<module>\u001b[0;34m\u001b[0m\n\u001b[0;32m----> 1\u001b[0;31m \u001b[0;32mimport\u001b[0m \u001b[0mkeras\u001b[0m\u001b[0;34m\u001b[0m\u001b[0;34m\u001b[0m\u001b[0m\n\u001b[0m\u001b[1;32m      2\u001b[0m \u001b[0;32mfrom\u001b[0m \u001b[0mkeras\u001b[0m\u001b[0;34m.\u001b[0m\u001b[0mmodels\u001b[0m \u001b[0;32mimport\u001b[0m \u001b[0mSequential\u001b[0m\u001b[0;34m\u001b[0m\u001b[0;34m\u001b[0m\u001b[0m\n\u001b[1;32m      3\u001b[0m \u001b[0;32mfrom\u001b[0m \u001b[0mkeras\u001b[0m\u001b[0;34m.\u001b[0m\u001b[0mlayers\u001b[0m \u001b[0;32mimport\u001b[0m \u001b[0mDense\u001b[0m\u001b[0;34m\u001b[0m\u001b[0;34m\u001b[0m\u001b[0m\n",
      "\u001b[0;31mModuleNotFoundError\u001b[0m: No module named 'keras'"
     ]
    }
   ],
   "source": [
    "import keras\n",
    "from keras.models import Sequential\n",
    "from keras.layers import Dense"
   ]
  },
  {
   "cell_type": "markdown",
   "metadata": {},
   "source": [
    "You may get a pink informational message that informs you that Keras is using Tensorflow.  That is okay: Keras is easier to use than Tensorflow for building neural networks, but it relies on Tensorflow for some of its backend processing."
   ]
  },
  {
   "cell_type": "markdown",
   "metadata": {},
   "source": [
    "## Declare Model Architecture"
   ]
  },
  {
   "cell_type": "code",
   "execution_count": 23,
   "metadata": {},
   "outputs": [
    {
     "ename": "NameError",
     "evalue": "name 'Sequential' is not defined",
     "output_type": "error",
     "traceback": [
      "\u001b[0;31m---------------------------------------------------------------------------\u001b[0m",
      "\u001b[0;31mNameError\u001b[0m                                 Traceback (most recent call last)",
      "\u001b[0;32m<ipython-input-23-c1338e54c4e5>\u001b[0m in \u001b[0;36m<module>\u001b[0;34m\u001b[0m\n\u001b[0;32m----> 1\u001b[0;31m \u001b[0mmodel\u001b[0m \u001b[0;34m=\u001b[0m \u001b[0mSequential\u001b[0m\u001b[0;34m(\u001b[0m\u001b[0;34m)\u001b[0m \u001b[0;31m#1\u001b[0m\u001b[0;34m\u001b[0m\u001b[0;34m\u001b[0m\u001b[0m\n\u001b[0m\u001b[1;32m      2\u001b[0m \u001b[0;34m\u001b[0m\u001b[0m\n\u001b[1;32m      3\u001b[0m \u001b[0;31m# NOTE: Use the number from the above shape command in the following statement\u001b[0m\u001b[0;34m\u001b[0m\u001b[0;34m\u001b[0m\u001b[0;34m\u001b[0m\u001b[0m\n\u001b[1;32m      4\u001b[0m \u001b[0mmodel\u001b[0m\u001b[0;34m.\u001b[0m\u001b[0madd\u001b[0m\u001b[0;34m(\u001b[0m\u001b[0mDense\u001b[0m\u001b[0;34m(\u001b[0m\u001b[0;36m8\u001b[0m\u001b[0;34m,\u001b[0m \u001b[0mactivation\u001b[0m\u001b[0;34m=\u001b[0m\u001b[0;34m'relu'\u001b[0m\u001b[0;34m,\u001b[0m \u001b[0minput_dim\u001b[0m\u001b[0;34m=\u001b[0m\u001b[0;36m3\u001b[0m\u001b[0;34m,\u001b[0m \u001b[0mname\u001b[0m\u001b[0;34m=\u001b[0m\u001b[0;34m'first_hidden'\u001b[0m\u001b[0;34m)\u001b[0m\u001b[0;34m)\u001b[0m \u001b[0;31m# input and hidden layer #2\u001b[0m\u001b[0;34m\u001b[0m\u001b[0;34m\u001b[0m\u001b[0m\n\u001b[1;32m      5\u001b[0m \u001b[0;31m# NOTE: the following line is purposely commented out\u001b[0m\u001b[0;34m\u001b[0m\u001b[0;34m\u001b[0m\u001b[0;34m\u001b[0m\u001b[0m\n",
      "\u001b[0;31mNameError\u001b[0m: name 'Sequential' is not defined"
     ]
    }
   ],
   "source": [
    "model = Sequential() #1\n",
    "\n",
    "# NOTE: Use the number from the above shape command in the following statement\n",
    "model.add(Dense(8, activation='relu', input_dim=3, name='first_hidden')) # input and hidden layer #2\n",
    "# NOTE: the following line is purposely commented out\n",
    "# model.add(Dense(8, activation = 'relu', name='second_hidden'))\n",
    "model.add(Dense(1, activation = 'sigmoid', name='output')) #3\n",
    "model.summary() #4"
   ]
  },
  {
   "cell_type": "markdown",
   "metadata": {},
   "source": [
    "## What the Architecture Means\n",
    "Keras uses a class called Sequential to build models.  The Sequential class is straightforward, since you build the model in a sequential manner.  In the following code, I declare a Sequential object, add an input layer with 8 nodes, as well as the first hidden layer (12 nodes); add another hidden layer with 8 nodes, and add a final output layer with one node.  Let's review each above line in turn:\n",
    "* Line 1: This creates the sequential object, which we call model\n",
    "* Line 2: This line does a lot.  Since all neural networks have at least one hidden layer, Keras allows you to add the input layer as well as the first hidden layer in one statement.  In this case we have 8 input variables (which agrees with the number of columns in X).  We use relu (rectified linear unit) as the activation function, which is among the most common.  \n",
    "* Line 3: We add the output layer, which is the result of our network.  Since the output is a single probability value that represent the P(diabetes), we only need one node.  Because the output is a probability, the appropriate activation function is sigmoid.  That is critical, since sigmoid tranforms the inputed value into a value between 0 and 1 (which works well for probability!).\n",
    "* Line 4: the summary method produces a report that communicates the architecture of our network.  Note that for some reason the input layer is not included, but--because we used the name argument, the hidden and output layers are easily identified.\n",
    "\n",
    "Because we used Dense (which we will for all model construction, each layer of the model is fully connected automatically to the next layer.  The above architecture therefore looks like the image below, with the blue input layer representing our data, the red hidden layer storing the networks knowledge, and the green output layer holding the predictions:"
   ]
  },
  {
   "cell_type": "markdown",
   "metadata": {},
   "source": [
    "<img src=\"ANN.png\">"
   ]
  },
  {
   "cell_type": "markdown",
   "metadata": {},
   "source": [
    "You might notice that we have not yet associated the data with the above architecture.  That is the norm with Keras.  First you construct the architecture, independent of the data.  Once the architecture is constructed, you will compile the model and set the hyperparameters.  \n",
    "\n",
    "The next line compiles the model, and also sets some important hyperparameters. Along with the sigmoid activation function in the output layer, the appropriate loss function is binary crossentropy, because there are two possible outcomes (diabetic/not diabetic).  Keras offers a variety of optimizers, and adam is very common. We will track accuracy as a metric, which we will use later in this notebook."
   ]
  },
  {
   "cell_type": "code",
   "execution_count": 28,
   "metadata": {},
   "outputs": [],
   "source": [
    "model.compile(loss='binary_crossentropy', optimizer='adam', metrics=['accuracy'])"
   ]
  },
  {
   "cell_type": "markdown",
   "metadata": {},
   "source": [
    "The final step is to fit the model using the data.  The _hyperparameters_ must also must supplied: they are the batch size and the number of epochs.  The verbose setting just tells keras how much information to provide when it is fitting the model.\n",
    "* The data X and y were set up above.  The y data needs to be diabetes, since that holds a 0 or 1 value, representing whether or not that person is a diabetic.\n",
    "* epochs.  An epoch represents a complete pass through the entire data set, which contains 392 people. If we set epochs = 150, that means the netowrk will pass through all data 150 times.\n",
    "* batch size.  When running the model fit, Keras will shuffle the data into batches, and then run the data forward through the network. The amount of error is calculated, and the weights on the hidden layer nodes are updated according to an algorithm called backward propagation. With a batch size of 10, there will be 392/10 batches per epoch.\n",
    "* Setting verbose = 0 turns off all feedback.  To see Keras iterate through the epochs, change verbose = 1 or even verbose = 2."
   ]
  },
  {
   "cell_type": "markdown",
   "metadata": {},
   "source": [
    "## Train the Model Using Training Data Set"
   ]
  },
  {
   "cell_type": "code",
   "execution_count": 29,
   "metadata": {},
   "outputs": [
    {
     "data": {
      "text/plain": [
       "<keras.callbacks.History at 0x7ffc8890b978>"
      ]
     },
     "execution_count": 29,
     "metadata": {},
     "output_type": "execute_result"
    }
   ],
   "source": [
    "model.fit(X_train, y_train, batch_size = 10, epochs = 150, verbose=0)"
   ]
  },
  {
   "cell_type": "markdown",
   "metadata": {},
   "source": [
    "## Examine the Model Accuracy and Confusion Matrix for Training Data"
   ]
  },
  {
   "cell_type": "code",
   "execution_count": 30,
   "metadata": {},
   "outputs": [
    {
     "name": "stdout",
     "output_type": "stream",
     "text": [
      "313/313 [==============================] - 0s 150us/step\n",
      "The model loss is 0.48 and its accuracy is 0.76.\n"
     ]
    }
   ],
   "source": [
    "loss, accuracy = model.evaluate(X_train,y_train)\n",
    "print(\"The model loss is {:.2f} and its accuracy is {:.2f}.\".format(loss, accuracy))"
   ]
  },
  {
   "cell_type": "code",
   "execution_count": 31,
   "metadata": {},
   "outputs": [],
   "source": [
    "pred_classes = model.predict_classes(X_train)"
   ]
  },
  {
   "cell_type": "code",
   "execution_count": 32,
   "metadata": {},
   "outputs": [
    {
     "data": {
      "text/plain": [
       "array([[188,  26],\n",
       "       [ 48,  51]])"
      ]
     },
     "execution_count": 32,
     "metadata": {},
     "output_type": "execute_result"
    }
   ],
   "source": [
    "from sklearn.metrics import confusion_matrix\n",
    "confusion_matrix(y_train,pred_classes)"
   ]
  },
  {
   "cell_type": "markdown",
   "metadata": {},
   "source": [
    "Recall that the upper-left to lower right diagonal represents the correct classifications."
   ]
  },
  {
   "cell_type": "markdown",
   "metadata": {},
   "source": [
    "## Test Model Generalizability by Examining Its Accuracy Relative to the Training Data\n",
    "One way to examine model overfit is to give the model some new data and see how it performs.  As we have discussed, if the model is generalizable, its performance with the test data should be comparable to its performance with the training data."
   ]
  },
  {
   "cell_type": "code",
   "execution_count": 33,
   "metadata": {},
   "outputs": [
    {
     "name": "stdout",
     "output_type": "stream",
     "text": [
      "79/79 [==============================] - 0s 25us/step\n",
      "The model loss is 0.58 and its accuracy is 0.67.\n"
     ]
    }
   ],
   "source": [
    "loss, accuracy = model.evaluate(X_test,y_test)\n",
    "print(\"The model loss is {:.2f} and its accuracy is {:.2f}.\".format(loss, accuracy))"
   ]
  },
  {
   "cell_type": "markdown",
   "metadata": {},
   "source": [
    "When it experiences the testing data, the model fit degrades considerably.  This drop indicates some degree of model overfit. We apparently have run too many epochs, which means the model has seen the data too many times.  It is starting to fit to the data's error, in addition to its information.  Reducing the number of epochs might improve the generalizability of the model."
   ]
  },
  {
   "cell_type": "code",
   "execution_count": 34,
   "metadata": {},
   "outputs": [],
   "source": [
    "pred_classes = model.predict_classes(X_test)"
   ]
  },
  {
   "cell_type": "code",
   "execution_count": 35,
   "metadata": {},
   "outputs": [
    {
     "data": {
      "text/plain": [
       "array([[41,  7],\n",
       "       [19, 12]])"
      ]
     },
     "execution_count": 35,
     "metadata": {},
     "output_type": "execute_result"
    }
   ],
   "source": [
    "from sklearn.metrics import confusion_matrix\n",
    "confusion_matrix(y_test,pred_classes)"
   ]
  },
  {
   "cell_type": "markdown",
   "metadata": {},
   "source": [
    "How does our model do:\n",
    "* For people without diabetes (row 1), the probability that the model is correct: \n",
    "* For people with diabetes (row 2), the probability that the model is correct: \n",
    "\n",
    "* If the model predicts the person does not have diabetes (column 1), the chance that they do not: \n",
    "* If the model predicts the person has diabetes (column 2), the chance that they do: \n",
    "\n",
    "This is perhaps the more critical part of the model, since it predicts someone's physical state, given a test result.  If the test says the person is diabetic, the chance is very high that they actually are.  If the test says they are not, however, there still is about a 1 in 3 chance that they still are (false negative)."
   ]
  },
  {
   "cell_type": "markdown",
   "metadata": {},
   "source": [
    "### Classification Report\n",
    "We did a classification report back in decision trees, and you can do it with NN as well.  Take a look at the precision and recall scores of our model:"
   ]
  },
  {
   "cell_type": "code",
   "execution_count": 36,
   "metadata": {},
   "outputs": [
    {
     "name": "stdout",
     "output_type": "stream",
     "text": [
      "              precision    recall  f1-score   support\n",
      "\n",
      "non-diabetic       0.68      0.85      0.76        48\n",
      "    diabetic       0.63      0.39      0.48        31\n",
      "\n",
      "   micro avg       0.67      0.67      0.67        79\n",
      "   macro avg       0.66      0.62      0.62        79\n",
      "weighted avg       0.66      0.67      0.65        79\n",
      "\n"
     ]
    }
   ],
   "source": [
    "from sklearn.metrics import classification_report\n",
    "target_names=['non-diabetic','diabetic'] # b/c 0=healthy, 1=diabetic\n",
    "print(classification_report(y_test, pred_classes, target_names=target_names))"
   ]
  },
  {
   "cell_type": "markdown",
   "metadata": {},
   "source": [
    "When interpreting the above:\n",
    "* Precision column: start with the words \"When the model predicts...\"\n",
    "* Recall column: start with the words \"When the person is actually...\"\n",
    "\n",
    "For a precision example, when the model predicts that someone is healthy, the person is actually non-diabetic 68\\% of the time (precision). When the person is actually healthy (recall), the model correctly predicts 88\\% of the time.\n",
    "\n",
    "You might notice how low the recall is for diabetics--that is, when we know the person is actually diabetic, the model is correct only 35\\% of the time.  "
   ]
  },
  {
   "cell_type": "markdown",
   "metadata": {},
   "source": [
    "## Predict New Cases\n",
    "Recall that the features in our input layer consist of the number of times a woman has been pregnant (xpregnant), her bmi, and her age.  So let's have our model generate a probability and a prediction (yes/no to diabetes), based on the following scenario:\n",
    "* Person 1 (Fit)\n",
    "  * xpregnant: 0\n",
    "  * bmi: 23\n",
    "  * age: 21\n",
    "* Person 2 (Overweight but Young)\n",
    "  * xpregnant: 0\n",
    "  * bmi: 30\n",
    "  * age: 35\n",
    "* Person 3 (Young and Pregnant for first time)\n",
    "  * xpregnant: 1\n",
    "  * bmi: 27\n",
    "  * age: 24\n",
    "* Person 2 (Overweight and Older)\n",
    "  * xpregnant: 0\n",
    "  * bmi: 32\n",
    "  * age: 60\n",
    "  \n",
    "Since the value in Person 1 represent a best case scenario, we expect the result to be low. The other scenarios will help us understand how the risk factors affect the resulting probabilities.\n",
    "\n",
    "Because the data in the input layer were standardized, we cannot just input the data directly into our model.  We have to standardize them first."
   ]
  },
  {
   "cell_type": "code",
   "execution_count": 37,
   "metadata": {},
   "outputs": [],
   "source": [
    "new_data = sc.transform([\n",
    "    [0,23,21],\n",
    "    [0,30,35],\n",
    "    [1,27,24],\n",
    "    [0,32,60]\n",
    "])"
   ]
  },
  {
   "cell_type": "code",
   "execution_count": 38,
   "metadata": {},
   "outputs": [
    {
     "data": {
      "text/plain": [
       "array([[0.03555224],\n",
       "       [0.5298317 ],\n",
       "       [0.09055339],\n",
       "       [0.68709373]], dtype=float32)"
      ]
     },
     "execution_count": 38,
     "metadata": {},
     "output_type": "execute_result"
    }
   ],
   "source": [
    "prob_prediction = model.predict_proba(new_data)\n",
    "prob_prediction"
   ]
  },
  {
   "cell_type": "markdown",
   "metadata": {},
   "source": [
    "The outcomes:\n",
    "* Person 1: 1.7\\% chance that the person has diabetes.  \n",
    "* Person 2: 49.7\\% chance that the person has diabetes.\n",
    "* Person 3: 6.9\\% chance that the person has diabetes.\n",
    "* Person 4: 64.7\\% chance that the person has diabetes.\n",
    "\n",
    "The following analysis generates the result, where 0=no diabetes and 1=diabetes:"
   ]
  },
  {
   "cell_type": "code",
   "execution_count": 52,
   "metadata": {},
   "outputs": [
    {
     "data": {
      "text/plain": [
       "array([[0],\n",
       "       [0],\n",
       "       [0],\n",
       "       [1]])"
      ]
     },
     "execution_count": 52,
     "metadata": {},
     "output_type": "execute_result"
    }
   ],
   "source": [
    "class_prediction = model.predict_classes(new_data)\n",
    "class_prediction"
   ]
  },
  {
   "cell_type": "markdown",
   "metadata": {},
   "source": [
    "The above result will always be consistent with the probability--that is, if the probability is less than 0.50, the class will be 0. Probabilities > 0.50 will be 1."
   ]
  },
  {
   "cell_type": "code",
   "execution_count": 47,
   "metadata": {},
   "outputs": [],
   "source": [
    "df['predictions'] = model.predict_proba(X_scaled)"
   ]
  },
  {
   "cell_type": "code",
   "execution_count": 48,
   "metadata": {},
   "outputs": [
    {
     "data": {
      "text/html": [
       "<div>\n",
       "<style scoped>\n",
       "    .dataframe tbody tr th:only-of-type {\n",
       "        vertical-align: middle;\n",
       "    }\n",
       "\n",
       "    .dataframe tbody tr th {\n",
       "        vertical-align: top;\n",
       "    }\n",
       "\n",
       "    .dataframe thead th {\n",
       "        text-align: right;\n",
       "    }\n",
       "</style>\n",
       "<table border=\"1\" class=\"dataframe\">\n",
       "  <thead>\n",
       "    <tr style=\"text-align: right;\">\n",
       "      <th></th>\n",
       "      <th>xpregnant</th>\n",
       "      <th>glucose</th>\n",
       "      <th>diastolic</th>\n",
       "      <th>tricep</th>\n",
       "      <th>insulin</th>\n",
       "      <th>bmi</th>\n",
       "      <th>pedigree</th>\n",
       "      <th>age</th>\n",
       "      <th>diabetes</th>\n",
       "      <th>predictions</th>\n",
       "    </tr>\n",
       "  </thead>\n",
       "  <tbody>\n",
       "    <tr>\n",
       "      <th>0</th>\n",
       "      <td>2</td>\n",
       "      <td>108</td>\n",
       "      <td>62</td>\n",
       "      <td>32</td>\n",
       "      <td>56</td>\n",
       "      <td>25.2</td>\n",
       "      <td>0.128</td>\n",
       "      <td>21</td>\n",
       "      <td>0</td>\n",
       "      <td>0.024312</td>\n",
       "    </tr>\n",
       "    <tr>\n",
       "      <th>1</th>\n",
       "      <td>0</td>\n",
       "      <td>137</td>\n",
       "      <td>68</td>\n",
       "      <td>14</td>\n",
       "      <td>148</td>\n",
       "      <td>24.8</td>\n",
       "      <td>0.143</td>\n",
       "      <td>21</td>\n",
       "      <td>0</td>\n",
       "      <td>0.023444</td>\n",
       "    </tr>\n",
       "    <tr>\n",
       "      <th>2</th>\n",
       "      <td>1</td>\n",
       "      <td>89</td>\n",
       "      <td>66</td>\n",
       "      <td>23</td>\n",
       "      <td>94</td>\n",
       "      <td>28.1</td>\n",
       "      <td>0.167</td>\n",
       "      <td>21</td>\n",
       "      <td>0</td>\n",
       "      <td>0.041081</td>\n",
       "    </tr>\n",
       "    <tr>\n",
       "      <th>3</th>\n",
       "      <td>0</td>\n",
       "      <td>139</td>\n",
       "      <td>62</td>\n",
       "      <td>17</td>\n",
       "      <td>210</td>\n",
       "      <td>22.1</td>\n",
       "      <td>0.207</td>\n",
       "      <td>21</td>\n",
       "      <td>0</td>\n",
       "      <td>0.014520</td>\n",
       "    </tr>\n",
       "    <tr>\n",
       "      <th>4</th>\n",
       "      <td>4</td>\n",
       "      <td>99</td>\n",
       "      <td>76</td>\n",
       "      <td>15</td>\n",
       "      <td>51</td>\n",
       "      <td>23.2</td>\n",
       "      <td>0.223</td>\n",
       "      <td>21</td>\n",
       "      <td>0</td>\n",
       "      <td>0.016482</td>\n",
       "    </tr>\n",
       "  </tbody>\n",
       "</table>\n",
       "</div>"
      ],
      "text/plain": [
       "   xpregnant  glucose  diastolic  tricep  insulin   bmi  pedigree  age  \\\n",
       "0          2      108         62      32       56  25.2     0.128   21   \n",
       "1          0      137         68      14      148  24.8     0.143   21   \n",
       "2          1       89         66      23       94  28.1     0.167   21   \n",
       "3          0      139         62      17      210  22.1     0.207   21   \n",
       "4          4       99         76      15       51  23.2     0.223   21   \n",
       "\n",
       "   diabetes  predictions  \n",
       "0         0     0.024312  \n",
       "1         0     0.023444  \n",
       "2         0     0.041081  \n",
       "3         0     0.014520  \n",
       "4         0     0.016482  "
      ]
     },
     "execution_count": 48,
     "metadata": {},
     "output_type": "execute_result"
    }
   ],
   "source": [
    "df.head()"
   ]
  },
  {
   "cell_type": "code",
   "execution_count": 49,
   "metadata": {},
   "outputs": [
    {
     "data": {
      "text/plain": [
       "<seaborn.axisgrid.PairGrid at 0x26e8b8fc0b8>"
      ]
     },
     "execution_count": 49,
     "metadata": {},
     "output_type": "execute_result"
    },
    {
     "data": {
      "image/png": "[encoded data removed]",
      "text/plain": [
       "<Figure size 2067x252 with 8 Axes>"
      ]
     },
     "metadata": {
      "needs_background": "light"
     },
     "output_type": "display_data"
    }
   ],
   "source": [
    "sns.pairplot(df, x_vars=['xpregnant', 'glucose', 'diastolic', 'tricep', 'insulin', 'bmi',\n",
    "       'pedigree', 'age'], y_vars=['predictions'], hue='diabetes',height=3.5)"
   ]
  },
  {
   "cell_type": "markdown",
   "metadata": {},
   "source": [
    "## Exercise\n",
    "* Improve model generalizability\n",
    "  * Gradually reduce the number of epochs in the model, running the full model each time.  \n",
    "  * See if you can reach a point where the accuracy levels stabilize for both the training and the test data set.\n",
    "Go back to the model architecture cell and:\n",
    "* uncomment the line that created a second hidden layer\n",
    "* Rerun the model, and note how the accuracy changes.  "
   ]
  },
  {
   "cell_type": "code",
   "execution_count": 8,
   "metadata": {},
   "outputs": [],
   "source": [
    "X = df[['pedigree', 'bmi','age']]\n",
    "y = df['diabetes']"
   ]
  },
  {
   "cell_type": "code",
   "execution_count": 10,
   "metadata": {},
   "outputs": [
    {
     "data": {
      "text/plain": [
       "3"
      ]
     },
     "execution_count": 10,
     "metadata": {},
     "output_type": "execute_result"
    }
   ],
   "source": [
    "from sklearn.model_selection import train_test_split\n",
    "X_train, X_test, y_train, y_test = train_test_split(X, y, test_size = 0.2, \\\n",
    "        random_state = 0)\n",
    "\n",
    "from sklearn.preprocessing import StandardScaler\n",
    "sc = StandardScaler()\n",
    "X_scaled = sc.fit_transform(X)\n",
    "X_train = sc.fit_transform(X_train)\n",
    "X_test = sc.transform(X_test)\n",
    "\n",
    "X_train.shape[1]"
   ]
  },
  {
   "cell_type": "code",
   "execution_count": 14,
   "metadata": {},
   "outputs": [
    {
     "ename": "ModuleNotFoundError",
     "evalue": "No module named 'keras'",
     "output_type": "error",
     "traceback": [
      "\u001b[0;31m---------------------------------------------------------------------------\u001b[0m",
      "\u001b[0;31mModuleNotFoundError\u001b[0m                       Traceback (most recent call last)",
      "\u001b[0;32m<ipython-input-14-6724c5b7f2b7>\u001b[0m in \u001b[0;36m<module>\u001b[0;34m\u001b[0m\n\u001b[0;32m----> 1\u001b[0;31m \u001b[0;32mimport\u001b[0m \u001b[0mkeras\u001b[0m\u001b[0;34m\u001b[0m\u001b[0;34m\u001b[0m\u001b[0m\n\u001b[0m\u001b[1;32m      2\u001b[0m \u001b[0;32mfrom\u001b[0m \u001b[0mkeras\u001b[0m\u001b[0;34m.\u001b[0m\u001b[0mmodels\u001b[0m \u001b[0;32mimport\u001b[0m \u001b[0mSequential\u001b[0m\u001b[0;34m\u001b[0m\u001b[0;34m\u001b[0m\u001b[0m\n\u001b[1;32m      3\u001b[0m \u001b[0;32mfrom\u001b[0m \u001b[0mkeras\u001b[0m\u001b[0;34m.\u001b[0m\u001b[0mlayers\u001b[0m \u001b[0;32mimport\u001b[0m \u001b[0mDense\u001b[0m\u001b[0;34m\u001b[0m\u001b[0;34m\u001b[0m\u001b[0m\n",
      "\u001b[0;31mModuleNotFoundError\u001b[0m: No module named 'keras'"
     ]
    }
   ],
   "source": [
    "import keras\n",
    "from keras.models import Sequential\n",
    "from keras.layers import Dense"
   ]
  },
  {
   "cell_type": "code",
   "execution_count": 13,
   "metadata": {},
   "outputs": [
    {
     "ename": "NameError",
     "evalue": "name 'Sequential' is not defined",
     "output_type": "error",
     "traceback": [
      "\u001b[0;31m---------------------------------------------------------------------------\u001b[0m",
      "\u001b[0;31mNameError\u001b[0m                                 Traceback (most recent call last)",
      "\u001b[0;32m<ipython-input-13-c1338e54c4e5>\u001b[0m in \u001b[0;36m<module>\u001b[0;34m\u001b[0m\n\u001b[0;32m----> 1\u001b[0;31m \u001b[0mmodel\u001b[0m \u001b[0;34m=\u001b[0m \u001b[0mSequential\u001b[0m\u001b[0;34m(\u001b[0m\u001b[0;34m)\u001b[0m \u001b[0;31m#1\u001b[0m\u001b[0;34m\u001b[0m\u001b[0;34m\u001b[0m\u001b[0m\n\u001b[0m\u001b[1;32m      2\u001b[0m \u001b[0;34m\u001b[0m\u001b[0m\n\u001b[1;32m      3\u001b[0m \u001b[0;31m# NOTE: Use the number from the above shape command in the following statement\u001b[0m\u001b[0;34m\u001b[0m\u001b[0;34m\u001b[0m\u001b[0;34m\u001b[0m\u001b[0m\n\u001b[1;32m      4\u001b[0m \u001b[0mmodel\u001b[0m\u001b[0;34m.\u001b[0m\u001b[0madd\u001b[0m\u001b[0;34m(\u001b[0m\u001b[0mDense\u001b[0m\u001b[0;34m(\u001b[0m\u001b[0;36m8\u001b[0m\u001b[0;34m,\u001b[0m \u001b[0mactivation\u001b[0m\u001b[0;34m=\u001b[0m\u001b[0;34m'relu'\u001b[0m\u001b[0;34m,\u001b[0m \u001b[0minput_dim\u001b[0m\u001b[0;34m=\u001b[0m\u001b[0;36m3\u001b[0m\u001b[0;34m,\u001b[0m \u001b[0mname\u001b[0m\u001b[0;34m=\u001b[0m\u001b[0;34m'first_hidden'\u001b[0m\u001b[0;34m)\u001b[0m\u001b[0;34m)\u001b[0m \u001b[0;31m# input and hidden layer #2\u001b[0m\u001b[0;34m\u001b[0m\u001b[0;34m\u001b[0m\u001b[0m\n\u001b[1;32m      5\u001b[0m \u001b[0;31m# NOTE: the following line is purposely commented out\u001b[0m\u001b[0;34m\u001b[0m\u001b[0;34m\u001b[0m\u001b[0;34m\u001b[0m\u001b[0m\n",
      "\u001b[0;31mNameError\u001b[0m: name 'Sequential' is not defined"
     ]
    }
   ],
   "source": [
    "model = Sequential() #1\n",
    "\n",
    "# NOTE: Use the number from the above shape command in the following statement\n",
    "model.add(Dense(8, activation='relu', input_dim=3, name='first_hidden')) # input and hidden layer #2\n",
    "# NOTE: the following line is purposely commented out\n",
    "# model.add(Dense(8, activation = 'relu', name='second_hidden'))\n",
    "model.add(Dense(1, activation = 'sigmoid', name='output')) #3\n",
    "model.summary() #4"
   ]
  },
  {
   "cell_type": "code",
   "execution_count": null,
   "metadata": {},
   "outputs": [],
   "source": []
  }
 ],
 "metadata": {
  "kernelspec": {
   "display_name": "Python 3",
   "language": "python",
   "name": "python3"
  },
  "language_info": {
   "codemirror_mode": {
    "name": "ipython",
    "version": 3
   },
   "file_extension": ".py",
   "mimetype": "text/x-python",
   "name": "python",
   "nbconvert_exporter": "python",
   "pygments_lexer": "ipython3",
   "version": "3.7.3"
  }
 },
 "nbformat": 4,
 "nbformat_minor": 4
}
