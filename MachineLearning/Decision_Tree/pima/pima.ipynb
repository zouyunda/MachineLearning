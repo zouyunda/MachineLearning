{
 "cells": [
  {
   "cell_type": "markdown",
   "metadata": {},
   "source": [
    "# Diabetes Dataset\n",
    "Feature descriptions follow:\n",
    "* xpregnant = Number of times pregnant\n",
    "* glucose = Plasma glucose concentration a 2 hours in an oral glucose tolerance test\n",
    "* diastolic = Diastolic blood pressure (mm Hg)\n",
    "* tricep = Triceps skin fold thickness (mm)\n",
    "* insulin = 2-Hour serum insulin (mu U/ml)\n",
    "* bmi = Body mass index (weight in kg/(height in m)^2)\n",
    "* pedigree = a function which scores likelihood of diabetes based on family history\n",
    "* age = Age (years)\n",
    "* **diabetes = Target/Dependent Variable: 1:tested positive for diabetes, 0: tested negative for diabetes**"
   ]
  },
  {
   "cell_type": "code",
   "execution_count": 17,
   "metadata": {},
   "outputs": [
    {
     "name": "stdout",
     "output_type": "stream",
     "text": [
      "(392, 9)\n",
      "(392, 9)\n"
     ]
    }
   ],
   "source": [
    "import pandas as pd\n",
    "df = pd.read_csv('pima_cleaned.csv')\n",
    "print(df.shape)\n",
    "print(df.dropna().shape)"
   ]
  },
  {
   "cell_type": "code",
   "execution_count": 18,
   "metadata": {},
   "outputs": [
    {
     "data": {
      "text/html": [
       "<div>\n",
       "<style scoped>\n",
       "    .dataframe tbody tr th:only-of-type {\n",
       "        vertical-align: middle;\n",
       "    }\n",
       "\n",
       "    .dataframe tbody tr th {\n",
       "        vertical-align: top;\n",
       "    }\n",
       "\n",
       "    .dataframe thead th {\n",
       "        text-align: right;\n",
       "    }\n",
       "</style>\n",
       "<table border=\"1\" class=\"dataframe\">\n",
       "  <thead>\n",
       "    <tr style=\"text-align: right;\">\n",
       "      <th></th>\n",
       "      <th>xpregnant</th>\n",
       "      <th>glucose</th>\n",
       "      <th>diastolic</th>\n",
       "      <th>tricep</th>\n",
       "      <th>insulin</th>\n",
       "      <th>bmi</th>\n",
       "      <th>pedigree</th>\n",
       "      <th>age</th>\n",
       "      <th>diabetes</th>\n",
       "    </tr>\n",
       "  </thead>\n",
       "  <tbody>\n",
       "    <tr>\n",
       "      <th>0</th>\n",
       "      <td>2</td>\n",
       "      <td>108</td>\n",
       "      <td>62</td>\n",
       "      <td>32</td>\n",
       "      <td>56</td>\n",
       "      <td>25.2</td>\n",
       "      <td>0.128</td>\n",
       "      <td>21</td>\n",
       "      <td>0</td>\n",
       "    </tr>\n",
       "    <tr>\n",
       "      <th>1</th>\n",
       "      <td>0</td>\n",
       "      <td>137</td>\n",
       "      <td>68</td>\n",
       "      <td>14</td>\n",
       "      <td>148</td>\n",
       "      <td>24.8</td>\n",
       "      <td>0.143</td>\n",
       "      <td>21</td>\n",
       "      <td>0</td>\n",
       "    </tr>\n",
       "    <tr>\n",
       "      <th>2</th>\n",
       "      <td>1</td>\n",
       "      <td>89</td>\n",
       "      <td>66</td>\n",
       "      <td>23</td>\n",
       "      <td>94</td>\n",
       "      <td>28.1</td>\n",
       "      <td>0.167</td>\n",
       "      <td>21</td>\n",
       "      <td>0</td>\n",
       "    </tr>\n",
       "    <tr>\n",
       "      <th>3</th>\n",
       "      <td>0</td>\n",
       "      <td>139</td>\n",
       "      <td>62</td>\n",
       "      <td>17</td>\n",
       "      <td>210</td>\n",
       "      <td>22.1</td>\n",
       "      <td>0.207</td>\n",
       "      <td>21</td>\n",
       "      <td>0</td>\n",
       "    </tr>\n",
       "    <tr>\n",
       "      <th>4</th>\n",
       "      <td>4</td>\n",
       "      <td>99</td>\n",
       "      <td>76</td>\n",
       "      <td>15</td>\n",
       "      <td>51</td>\n",
       "      <td>23.2</td>\n",
       "      <td>0.223</td>\n",
       "      <td>21</td>\n",
       "      <td>0</td>\n",
       "    </tr>\n",
       "  </tbody>\n",
       "</table>\n",
       "</div>"
      ],
      "text/plain": [
       "   xpregnant  glucose  diastolic  tricep  insulin   bmi  pedigree  age  \\\n",
       "0          2      108         62      32       56  25.2     0.128   21   \n",
       "1          0      137         68      14      148  24.8     0.143   21   \n",
       "2          1       89         66      23       94  28.1     0.167   21   \n",
       "3          0      139         62      17      210  22.1     0.207   21   \n",
       "4          4       99         76      15       51  23.2     0.223   21   \n",
       "\n",
       "   diabetes  \n",
       "0         0  \n",
       "1         0  \n",
       "2         0  \n",
       "3         0  \n",
       "4         0  "
      ]
     },
     "execution_count": 18,
     "metadata": {},
     "output_type": "execute_result"
    }
   ],
   "source": [
    "df.head()"
   ]
  },
  {
   "cell_type": "code",
   "execution_count": 19,
   "metadata": {},
   "outputs": [
    {
     "data": {
      "text/plain": [
       "xpregnant    0\n",
       "glucose      0\n",
       "diastolic    0\n",
       "tricep       0\n",
       "insulin      0\n",
       "bmi          0\n",
       "pedigree     0\n",
       "age          0\n",
       "diabetes     0\n",
       "dtype: int64"
      ]
     },
     "execution_count": 19,
     "metadata": {},
     "output_type": "execute_result"
    }
   ],
   "source": [
    "df.isnull().sum()"
   ]
  },
  {
   "cell_type": "markdown",
   "metadata": {},
   "source": [
    "## Suggestions\n",
    "* Start by understanding what the columns indicate \n",
    "* Run the descriptives stats.  Read them CAREFULLY.  What do you learn?\n",
    "* Run some visualizations, from both matplotlib and seaborn:"
   ]
  },
  {
   "cell_type": "code",
   "execution_count": 4,
   "metadata": {},
   "outputs": [
    {
     "data": {
      "text/html": [
       "<div>\n",
       "<style scoped>\n",
       "    .dataframe tbody tr th:only-of-type {\n",
       "        vertical-align: middle;\n",
       "    }\n",
       "\n",
       "    .dataframe tbody tr th {\n",
       "        vertical-align: top;\n",
       "    }\n",
       "\n",
       "    .dataframe thead th {\n",
       "        text-align: right;\n",
       "    }\n",
       "</style>\n",
       "<table border=\"1\" class=\"dataframe\">\n",
       "  <thead>\n",
       "    <tr style=\"text-align: right;\">\n",
       "      <th></th>\n",
       "      <th>count</th>\n",
       "      <th>mean</th>\n",
       "      <th>std</th>\n",
       "      <th>min</th>\n",
       "      <th>25%</th>\n",
       "      <th>50%</th>\n",
       "      <th>75%</th>\n",
       "      <th>max</th>\n",
       "    </tr>\n",
       "  </thead>\n",
       "  <tbody>\n",
       "    <tr>\n",
       "      <th>xpregnant</th>\n",
       "      <td>392.0</td>\n",
       "      <td>3.301020</td>\n",
       "      <td>3.211424</td>\n",
       "      <td>0.000</td>\n",
       "      <td>1.00000</td>\n",
       "      <td>2.0000</td>\n",
       "      <td>5.000</td>\n",
       "      <td>17.00</td>\n",
       "    </tr>\n",
       "    <tr>\n",
       "      <th>glucose</th>\n",
       "      <td>392.0</td>\n",
       "      <td>122.627551</td>\n",
       "      <td>30.860781</td>\n",
       "      <td>56.000</td>\n",
       "      <td>99.00000</td>\n",
       "      <td>119.0000</td>\n",
       "      <td>143.000</td>\n",
       "      <td>198.00</td>\n",
       "    </tr>\n",
       "    <tr>\n",
       "      <th>diastolic</th>\n",
       "      <td>392.0</td>\n",
       "      <td>70.663265</td>\n",
       "      <td>12.496092</td>\n",
       "      <td>24.000</td>\n",
       "      <td>62.00000</td>\n",
       "      <td>70.0000</td>\n",
       "      <td>78.000</td>\n",
       "      <td>110.00</td>\n",
       "    </tr>\n",
       "    <tr>\n",
       "      <th>tricep</th>\n",
       "      <td>392.0</td>\n",
       "      <td>29.145408</td>\n",
       "      <td>10.516424</td>\n",
       "      <td>7.000</td>\n",
       "      <td>21.00000</td>\n",
       "      <td>29.0000</td>\n",
       "      <td>37.000</td>\n",
       "      <td>63.00</td>\n",
       "    </tr>\n",
       "    <tr>\n",
       "      <th>insulin</th>\n",
       "      <td>392.0</td>\n",
       "      <td>156.056122</td>\n",
       "      <td>118.841690</td>\n",
       "      <td>14.000</td>\n",
       "      <td>76.75000</td>\n",
       "      <td>125.5000</td>\n",
       "      <td>190.000</td>\n",
       "      <td>846.00</td>\n",
       "    </tr>\n",
       "    <tr>\n",
       "      <th>bmi</th>\n",
       "      <td>392.0</td>\n",
       "      <td>33.086224</td>\n",
       "      <td>7.027659</td>\n",
       "      <td>18.200</td>\n",
       "      <td>28.40000</td>\n",
       "      <td>33.2000</td>\n",
       "      <td>37.100</td>\n",
       "      <td>67.10</td>\n",
       "    </tr>\n",
       "    <tr>\n",
       "      <th>pedigree</th>\n",
       "      <td>392.0</td>\n",
       "      <td>0.523046</td>\n",
       "      <td>0.345488</td>\n",
       "      <td>0.085</td>\n",
       "      <td>0.26975</td>\n",
       "      <td>0.4495</td>\n",
       "      <td>0.687</td>\n",
       "      <td>2.42</td>\n",
       "    </tr>\n",
       "    <tr>\n",
       "      <th>age</th>\n",
       "      <td>392.0</td>\n",
       "      <td>30.864796</td>\n",
       "      <td>10.200777</td>\n",
       "      <td>21.000</td>\n",
       "      <td>23.00000</td>\n",
       "      <td>27.0000</td>\n",
       "      <td>36.000</td>\n",
       "      <td>81.00</td>\n",
       "    </tr>\n",
       "    <tr>\n",
       "      <th>diabetes</th>\n",
       "      <td>392.0</td>\n",
       "      <td>0.331633</td>\n",
       "      <td>0.471401</td>\n",
       "      <td>0.000</td>\n",
       "      <td>0.00000</td>\n",
       "      <td>0.0000</td>\n",
       "      <td>1.000</td>\n",
       "      <td>1.00</td>\n",
       "    </tr>\n",
       "  </tbody>\n",
       "</table>\n",
       "</div>"
      ],
      "text/plain": [
       "           count        mean         std     min       25%       50%      75%  \\\n",
       "xpregnant  392.0    3.301020    3.211424   0.000   1.00000    2.0000    5.000   \n",
       "glucose    392.0  122.627551   30.860781  56.000  99.00000  119.0000  143.000   \n",
       "diastolic  392.0   70.663265   12.496092  24.000  62.00000   70.0000   78.000   \n",
       "tricep     392.0   29.145408   10.516424   7.000  21.00000   29.0000   37.000   \n",
       "insulin    392.0  156.056122  118.841690  14.000  76.75000  125.5000  190.000   \n",
       "bmi        392.0   33.086224    7.027659  18.200  28.40000   33.2000   37.100   \n",
       "pedigree   392.0    0.523046    0.345488   0.085   0.26975    0.4495    0.687   \n",
       "age        392.0   30.864796   10.200777  21.000  23.00000   27.0000   36.000   \n",
       "diabetes   392.0    0.331633    0.471401   0.000   0.00000    0.0000    1.000   \n",
       "\n",
       "              max  \n",
       "xpregnant   17.00  \n",
       "glucose    198.00  \n",
       "diastolic  110.00  \n",
       "tricep      63.00  \n",
       "insulin    846.00  \n",
       "bmi         67.10  \n",
       "pedigree     2.42  \n",
       "age         81.00  \n",
       "diabetes     1.00  "
      ]
     },
     "execution_count": 4,
     "metadata": {},
     "output_type": "execute_result"
    }
   ],
   "source": [
    "df.describe().transpose()"
   ]
  },
  {
   "cell_type": "code",
   "execution_count": 20,
   "metadata": {},
   "outputs": [
    {
     "data": {
      "text/plain": [
       "<matplotlib.axes._subplots.AxesSubplot at 0x1a213b3e48>"
      ]
     },
     "execution_count": 20,
     "metadata": {},
     "output_type": "execute_result"
    },
    {
     "data": {
      "image/png": "[encoded data removed]",
      "text/plain": [
       "<Figure size 432x288 with 1 Axes>"
      ]
     },
     "metadata": {
      "needs_background": "light"
     },
     "output_type": "display_data"
    }
   ],
   "source": [
    "import seaborn as sns\n",
    "sns.distplot(df.age)"
   ]
  },
  {
   "cell_type": "code",
   "execution_count": 6,
   "metadata": {},
   "outputs": [
    {
     "data": {
      "text/plain": [
       "<matplotlib.axes._subplots.AxesSubplot at 0x1a1fe51e48>"
      ]
     },
     "execution_count": 6,
     "metadata": {},
     "output_type": "execute_result"
    },
    {
     "data": {
      "image/png": "[encoded data removed]",
      "text/plain": [
       "<Figure size 432x288 with 1 Axes>"
      ]
     },
     "metadata": {
      "needs_background": "light"
     },
     "output_type": "display_data"
    }
   ],
   "source": [
    "sns.distplot(df.bmi)"
   ]
  },
  {
   "cell_type": "code",
   "execution_count": 7,
   "metadata": {},
   "outputs": [
    {
     "data": {
      "text/plain": [
       "Index(['xpregnant', 'glucose', 'diastolic', 'tricep', 'insulin', 'bmi',\n",
       "       'pedigree', 'age', 'diabetes'],\n",
       "      dtype='object')"
      ]
     },
     "execution_count": 7,
     "metadata": {},
     "output_type": "execute_result"
    }
   ],
   "source": [
    "df.columns"
   ]
  },
  {
   "cell_type": "code",
   "execution_count": 8,
   "metadata": {},
   "outputs": [
    {
     "data": {
      "text/html": [
       "<div>\n",
       "<style scoped>\n",
       "    .dataframe tbody tr th:only-of-type {\n",
       "        vertical-align: middle;\n",
       "    }\n",
       "\n",
       "    .dataframe tbody tr th {\n",
       "        vertical-align: top;\n",
       "    }\n",
       "\n",
       "    .dataframe thead th {\n",
       "        text-align: right;\n",
       "    }\n",
       "</style>\n",
       "<table border=\"1\" class=\"dataframe\">\n",
       "  <thead>\n",
       "    <tr style=\"text-align: right;\">\n",
       "      <th></th>\n",
       "      <th>xpregnant</th>\n",
       "      <th>glucose</th>\n",
       "      <th>diastolic</th>\n",
       "      <th>tricep</th>\n",
       "      <th>insulin</th>\n",
       "      <th>bmi</th>\n",
       "      <th>pedigree</th>\n",
       "      <th>age</th>\n",
       "    </tr>\n",
       "    <tr>\n",
       "      <th>diabetes</th>\n",
       "      <th></th>\n",
       "      <th></th>\n",
       "      <th></th>\n",
       "      <th></th>\n",
       "      <th></th>\n",
       "      <th></th>\n",
       "      <th></th>\n",
       "      <th></th>\n",
       "    </tr>\n",
       "  </thead>\n",
       "  <tbody>\n",
       "    <tr>\n",
       "      <th>0</th>\n",
       "      <td>2.721374</td>\n",
       "      <td>111.431298</td>\n",
       "      <td>68.969466</td>\n",
       "      <td>27.251908</td>\n",
       "      <td>130.854962</td>\n",
       "      <td>31.750763</td>\n",
       "      <td>0.472168</td>\n",
       "      <td>28.347328</td>\n",
       "    </tr>\n",
       "    <tr>\n",
       "      <th>1</th>\n",
       "      <td>4.469231</td>\n",
       "      <td>145.192308</td>\n",
       "      <td>74.076923</td>\n",
       "      <td>32.961538</td>\n",
       "      <td>206.846154</td>\n",
       "      <td>35.777692</td>\n",
       "      <td>0.625585</td>\n",
       "      <td>35.938462</td>\n",
       "    </tr>\n",
       "  </tbody>\n",
       "</table>\n",
       "</div>"
      ],
      "text/plain": [
       "          xpregnant     glucose  diastolic     tricep     insulin        bmi  \\\n",
       "diabetes                                                                       \n",
       "0          2.721374  111.431298  68.969466  27.251908  130.854962  31.750763   \n",
       "1          4.469231  145.192308  74.076923  32.961538  206.846154  35.777692   \n",
       "\n",
       "          pedigree        age  \n",
       "diabetes                       \n",
       "0         0.472168  28.347328  \n",
       "1         0.625585  35.938462  "
      ]
     },
     "execution_count": 8,
     "metadata": {},
     "output_type": "execute_result"
    }
   ],
   "source": [
    "temp = df[['xpregnant', 'glucose', 'diastolic', 'tricep', 'insulin', 'bmi','pedigree', \\\n",
    "    'age','diabetes']]\n",
    "temp.groupby([\"diabetes\"]).mean() # transpose makes the output easier to read"
   ]
  },
  {
   "cell_type": "code",
   "execution_count": 9,
   "metadata": {},
   "outputs": [
    {
     "data": {
      "text/html": [
       "<div>\n",
       "<style scoped>\n",
       "    .dataframe tbody tr th:only-of-type {\n",
       "        vertical-align: middle;\n",
       "    }\n",
       "\n",
       "    .dataframe tbody tr th {\n",
       "        vertical-align: top;\n",
       "    }\n",
       "\n",
       "    .dataframe thead th {\n",
       "        text-align: right;\n",
       "    }\n",
       "</style>\n",
       "<table border=\"1\" class=\"dataframe\">\n",
       "  <thead>\n",
       "    <tr style=\"text-align: right;\">\n",
       "      <th>xpregnant</th>\n",
       "      <th>0</th>\n",
       "      <th>1</th>\n",
       "      <th>2</th>\n",
       "      <th>3</th>\n",
       "      <th>4</th>\n",
       "      <th>5</th>\n",
       "      <th>6</th>\n",
       "      <th>7</th>\n",
       "      <th>8</th>\n",
       "      <th>9</th>\n",
       "      <th>10</th>\n",
       "      <th>11</th>\n",
       "      <th>12</th>\n",
       "      <th>13</th>\n",
       "      <th>14</th>\n",
       "      <th>15</th>\n",
       "      <th>17</th>\n",
       "    </tr>\n",
       "    <tr>\n",
       "      <th>diabetes</th>\n",
       "      <th></th>\n",
       "      <th></th>\n",
       "      <th></th>\n",
       "      <th></th>\n",
       "      <th></th>\n",
       "      <th></th>\n",
       "      <th></th>\n",
       "      <th></th>\n",
       "      <th></th>\n",
       "      <th></th>\n",
       "      <th></th>\n",
       "      <th></th>\n",
       "      <th></th>\n",
       "      <th></th>\n",
       "      <th></th>\n",
       "      <th></th>\n",
       "      <th></th>\n",
       "    </tr>\n",
       "  </thead>\n",
       "  <tbody>\n",
       "    <tr>\n",
       "      <th>0</th>\n",
       "      <td>37</td>\n",
       "      <td>73</td>\n",
       "      <td>52</td>\n",
       "      <td>26</td>\n",
       "      <td>21</td>\n",
       "      <td>13</td>\n",
       "      <td>15</td>\n",
       "      <td>10</td>\n",
       "      <td>3</td>\n",
       "      <td>5</td>\n",
       "      <td>3</td>\n",
       "      <td>0</td>\n",
       "      <td>2</td>\n",
       "      <td>2</td>\n",
       "      <td>0</td>\n",
       "      <td>0</td>\n",
       "      <td>0</td>\n",
       "    </tr>\n",
       "    <tr>\n",
       "      <th>1</th>\n",
       "      <td>19</td>\n",
       "      <td>20</td>\n",
       "      <td>12</td>\n",
       "      <td>19</td>\n",
       "      <td>6</td>\n",
       "      <td>8</td>\n",
       "      <td>4</td>\n",
       "      <td>10</td>\n",
       "      <td>11</td>\n",
       "      <td>6</td>\n",
       "      <td>3</td>\n",
       "      <td>5</td>\n",
       "      <td>3</td>\n",
       "      <td>1</td>\n",
       "      <td>1</td>\n",
       "      <td>1</td>\n",
       "      <td>1</td>\n",
       "    </tr>\n",
       "  </tbody>\n",
       "</table>\n",
       "</div>"
      ],
      "text/plain": [
       "xpregnant  0   1   2   3   4   5   6   7   8   9   10  11  12  13  14  15  17\n",
       "diabetes                                                                     \n",
       "0          37  73  52  26  21  13  15  10   3   5   3   0   2   2   0   0   0\n",
       "1          19  20  12  19   6   8   4  10  11   6   3   5   3   1   1   1   1"
      ]
     },
     "execution_count": 9,
     "metadata": {},
     "output_type": "execute_result"
    }
   ],
   "source": [
    "pd.crosstab(df['diabetes'],df['xpregnant'])"
   ]
  },
  {
   "cell_type": "code",
   "execution_count": 10,
   "metadata": {},
   "outputs": [],
   "source": [
    "# Start simple\n",
    "y = df['diabetes']\n",
    "X = df[['glucose', 'bmi']]"
   ]
  },
  {
   "cell_type": "code",
   "execution_count": 11,
   "metadata": {},
   "outputs": [],
   "source": [
    "from sklearn import tree\n",
    "# Do a decision tree \n",
    "db_tree = tree.DecisionTreeClassifier(max_depth=2, random_state = 0)\n",
    "db_tree = db_tree.fit(X, y)"
   ]
  },
  {
   "cell_type": "code",
   "execution_count": 12,
   "metadata": {},
   "outputs": [
    {
     "name": "stderr",
     "output_type": "stream",
     "text": [
      "//anaconda3/lib/python3.7/site-packages/sklearn/externals/six.py:31: DeprecationWarning: The module is deprecated in version 0.21 and will be removed in version 0.23 since we've dropped support for Python 2.7. Please rely on the official version of six (https://pypi.org/project/six/).\n",
      "  \"(https://pypi.org/project/six/).\", DeprecationWarning)\n"
     ]
    },
    {
     "data": {
      "image/png": "[encoded data removed]",
      "text/plain": [
       "<IPython.core.display.Image object>"
      ]
     },
     "execution_count": 12,
     "metadata": {},
     "output_type": "execute_result"
    }
   ],
   "source": [
    "from IPython.display import Image  \n",
    "from sklearn.externals.six import StringIO  \n",
    "import pydotplus\n",
    "\n",
    "dot_data = StringIO()  \n",
    "tree.export_graphviz(db_tree, out_file=dot_data,  \n",
    "        feature_names=X.columns, rounded=True, rotate=True)\n",
    "graph = pydotplus.graph_from_dot_data(dot_data.getvalue())  \n",
    "Image(graph.create_png())  "
   ]
  },
  {
   "cell_type": "markdown",
   "metadata": {},
   "source": [
    "Examine the gini scores on the above tree carefully.  On the far right, notice that on the third node down, the result is almost split 50/50 (value=[52, 53]) and that the gini score is at its highest: 0.50.  In contrast, the path that does the best classification is the first node with a gini score of 0.194.\n",
    "\n",
    "Interpreting the above tree looks like this:\n",
    "* Upper path (for women who have a glucose level <= 127.5, 205/241 do not have diabetes (85/1\\%)\n",
    "  * for women who have a bmi<=45.4, 201/232 do not have diabetes (90.8\\%)\n",
    "  * for women who have a bmi>45.4, 4/9 do not have diabetes (44.4\\%)\n",
    "* Lower path (for women who have a glucose level > 127.5, 57/151 do not have diabetes (37.8\\%)\n",
    "  * for women whose glucose is between 127.5 and 165.6, 52/105 do not have diabetes (50.0\\%)\n",
    "  * for women who glucose is higher than 165.5, 5/(5+41) do not have diabetes (10.9\\%)\n",
    "\n",
    "So clearly there is a relationship between glucose (which is a type of sugar) and diabetes.  Of course, diabetes _is_ actually the inability of the body to process sugar (i.e., low insulin levels), so this shouldn't be too surprising.  "
   ]
  },
  {
   "cell_type": "code",
   "execution_count": 13,
   "metadata": {},
   "outputs": [
    {
     "data": {
      "text/plain": [
       "array([0.94309155, 0.05690845])"
      ]
     },
     "execution_count": 13,
     "metadata": {},
     "output_type": "execute_result"
    }
   ],
   "source": [
    "# What was the most important feature?\n",
    "db_tree.feature_importances_"
   ]
  },
  {
   "cell_type": "markdown",
   "metadata": {},
   "source": [
    "Since we listed the X variables (or \"features\") in the order glucose, bmi, the above indicates that glucose is 95% important, while bmi is only 5% important in classifying whether or not someone has diabetes."
   ]
  },
  {
   "cell_type": "markdown",
   "metadata": {},
   "source": [
    "# Predicting an outcome using a decision tree.\n",
    "\n",
    "We can now use our decision tree model to predict the probability that someone will have diabetes. If we have a 56 year-old woman with a bmi of 32 (obese), what is the probability of being diabetic:"
   ]
  },
  {
   "cell_type": "code",
   "execution_count": 16,
   "metadata": {},
   "outputs": [
    {
     "name": "stdout",
     "output_type": "stream",
     "text": [
      "[0]\n"
     ]
    }
   ],
   "source": [
    "print(db_tree.predict([[56, 32]])) "
   ]
  },
  {
   "cell_type": "markdown",
   "metadata": {},
   "source": [
    "The predict method returns the class for the prediction.  In this case, since 0 indicates a no diabetes and 1 indicates the person is diabetic, this indicates a positive result."
   ]
  },
  {
   "cell_type": "markdown",
   "metadata": {},
   "source": [
    "We can actually return the *probability* that the person has diabetes as well.  Note that since the above returned a 1, the probability for diabetes must be >0.50."
   ]
  },
  {
   "cell_type": "code",
   "execution_count": 15,
   "metadata": {},
   "outputs": [
    {
     "data": {
      "text/plain": [
       "array([[0.86637931, 0.13362069]])"
      ]
     },
     "execution_count": 15,
     "metadata": {},
     "output_type": "execute_result"
    }
   ],
   "source": [
    "db_tree.predict_proba([[122, 30]])"
   ]
  },
  {
   "cell_type": "markdown",
   "metadata": {},
   "source": [
    "Our model predicts a 55.6\\% chance that the women has diabetes."
   ]
  },
  {
   "cell_type": "markdown",
   "metadata": {},
   "source": [
    "We can also store the prediction and probability for each person back in the df dataframe:"
   ]
  },
  {
   "cell_type": "code",
   "execution_count": 35,
   "metadata": {},
   "outputs": [],
   "source": [
    "# The actual prediction: not diabetic (0) or diabetic (1)?\n",
    "temp = df[['glucose', 'bmi']]\n",
    "df['predictions'] = db_tree.predict(temp)\n",
    "# df['probs'] = db_tree.predict_proba(temp)"
   ]
  },
  {
   "cell_type": "code",
   "execution_count": 36,
   "metadata": {},
   "outputs": [
    {
     "data": {
      "text/html": [
       "<div>\n",
       "<style scoped>\n",
       "    .dataframe tbody tr th:only-of-type {\n",
       "        vertical-align: middle;\n",
       "    }\n",
       "\n",
       "    .dataframe tbody tr th {\n",
       "        vertical-align: top;\n",
       "    }\n",
       "\n",
       "    .dataframe thead th {\n",
       "        text-align: right;\n",
       "    }\n",
       "</style>\n",
       "<table border=\"1\" class=\"dataframe\">\n",
       "  <thead>\n",
       "    <tr style=\"text-align: right;\">\n",
       "      <th></th>\n",
       "      <th>xpregnant</th>\n",
       "      <th>glucose</th>\n",
       "      <th>diastolic</th>\n",
       "      <th>tricep</th>\n",
       "      <th>insulin</th>\n",
       "      <th>bmi</th>\n",
       "      <th>pedigree</th>\n",
       "      <th>age</th>\n",
       "      <th>diabetes</th>\n",
       "      <th>predictions</th>\n",
       "    </tr>\n",
       "  </thead>\n",
       "  <tbody>\n",
       "    <tr>\n",
       "      <th>0</th>\n",
       "      <td>2</td>\n",
       "      <td>108</td>\n",
       "      <td>62</td>\n",
       "      <td>32</td>\n",
       "      <td>56</td>\n",
       "      <td>25.2</td>\n",
       "      <td>0.128</td>\n",
       "      <td>21</td>\n",
       "      <td>0</td>\n",
       "      <td>0</td>\n",
       "    </tr>\n",
       "    <tr>\n",
       "      <th>1</th>\n",
       "      <td>0</td>\n",
       "      <td>137</td>\n",
       "      <td>68</td>\n",
       "      <td>14</td>\n",
       "      <td>148</td>\n",
       "      <td>24.8</td>\n",
       "      <td>0.143</td>\n",
       "      <td>21</td>\n",
       "      <td>0</td>\n",
       "      <td>1</td>\n",
       "    </tr>\n",
       "    <tr>\n",
       "      <th>2</th>\n",
       "      <td>1</td>\n",
       "      <td>89</td>\n",
       "      <td>66</td>\n",
       "      <td>23</td>\n",
       "      <td>94</td>\n",
       "      <td>28.1</td>\n",
       "      <td>0.167</td>\n",
       "      <td>21</td>\n",
       "      <td>0</td>\n",
       "      <td>0</td>\n",
       "    </tr>\n",
       "    <tr>\n",
       "      <th>3</th>\n",
       "      <td>0</td>\n",
       "      <td>139</td>\n",
       "      <td>62</td>\n",
       "      <td>17</td>\n",
       "      <td>210</td>\n",
       "      <td>22.1</td>\n",
       "      <td>0.207</td>\n",
       "      <td>21</td>\n",
       "      <td>0</td>\n",
       "      <td>1</td>\n",
       "    </tr>\n",
       "    <tr>\n",
       "      <th>4</th>\n",
       "      <td>4</td>\n",
       "      <td>99</td>\n",
       "      <td>76</td>\n",
       "      <td>15</td>\n",
       "      <td>51</td>\n",
       "      <td>23.2</td>\n",
       "      <td>0.223</td>\n",
       "      <td>21</td>\n",
       "      <td>0</td>\n",
       "      <td>0</td>\n",
       "    </tr>\n",
       "  </tbody>\n",
       "</table>\n",
       "</div>"
      ],
      "text/plain": [
       "   xpregnant  glucose  diastolic  tricep  insulin   bmi  pedigree  age  \\\n",
       "0          2      108         62      32       56  25.2     0.128   21   \n",
       "1          0      137         68      14      148  24.8     0.143   21   \n",
       "2          1       89         66      23       94  28.1     0.167   21   \n",
       "3          0      139         62      17      210  22.1     0.207   21   \n",
       "4          4       99         76      15       51  23.2     0.223   21   \n",
       "\n",
       "   diabetes  predictions  \n",
       "0         0            0  \n",
       "1         0            1  \n",
       "2         0            0  \n",
       "3         0            1  \n",
       "4         0            0  "
      ]
     },
     "execution_count": 36,
     "metadata": {},
     "output_type": "execute_result"
    }
   ],
   "source": [
    "df.head()"
   ]
  },
  {
   "cell_type": "code",
   "execution_count": 37,
   "metadata": {},
   "outputs": [
    {
     "data": {
      "text/plain": [
       "array([[201,  61],\n",
       "       [ 31,  99]], dtype=int64)"
      ]
     },
     "execution_count": 37,
     "metadata": {},
     "output_type": "execute_result"
    }
   ],
   "source": [
    "from sklearn.metrics import confusion_matrix\n",
    "# suggestion: put ACTUAL value first, predictions second.\n",
    "cm = confusion_matrix(df['diabetes'], df['predictions'])\n",
    "cm"
   ]
  },
  {
   "cell_type": "markdown",
   "metadata": {},
   "source": [
    "The above matrix is called a \"confusion matrix\", and there is a lot to unpack here.  The rows represent the *actual* situation regarding diabetes.  The columns represent the *model's* prediction.  \n",
    "\n",
    "The diagonal from upper left (201) to lower right (99) , therefore, are the correct predictions.  Of the people who did not have diabetes, we predicted 201 correctly.  They are the \"true negatives\".  Of the people who had diabetes (second row), we predicted 99 correctly.  They are the \"true positives\".  The upper right corner, therefore are the false positives: people who do really do NOT have diabetes, but were falsely predicted to have it.  The lower left corner are the false negatives. They represent the group that we diagnose as non-diabetic, but they really are diabetic.  \n",
    "\n",
    "So how does our model perform?"
   ]
  },
  {
   "cell_type": "code",
   "execution_count": 38,
   "metadata": {},
   "outputs": [
    {
     "name": "stdout",
     "output_type": "stream",
     "text": [
      "Your decision tree is 76.53% accurate.\n"
     ]
    }
   ],
   "source": [
    "# So, how accurate is our model?\n",
    "accuracy = db_tree.score(X,y) \n",
    "print(\"Your decision tree is {:.2f}% accurate.\".format(accuracy*100))"
   ]
  },
  {
   "cell_type": "markdown",
   "metadata": {},
   "source": [
    "BTW:"
   ]
  },
  {
   "cell_type": "code",
   "execution_count": 205,
   "metadata": {},
   "outputs": [
    {
     "data": {
      "text/plain": [
       "0.7653061224489796"
      ]
     },
     "execution_count": 205,
     "metadata": {},
     "output_type": "execute_result"
    }
   ],
   "source": [
    "(201 + 99)/(201 + 99 + 31 + 61)"
   ]
  },
  {
   "cell_type": "code",
   "execution_count": 206,
   "metadata": {},
   "outputs": [
    {
     "data": {
      "text/plain": [
       "array([[201,  61],\n",
       "       [ 31,  99]], dtype=int64)"
      ]
     },
     "execution_count": 206,
     "metadata": {},
     "output_type": "execute_result"
    }
   ],
   "source": [
    "confusion_matrix(df['diabetes'], df['predictions'])"
   ]
  },
  {
   "cell_type": "markdown",
   "metadata": {},
   "source": [
    "Recall that the rows represent the actual state, so we had 262 people without diabetes and 130 diabetics within our sample.  That means are rows represent the actual numbers, while the columns represent the predictions.  \n",
    "\n",
    "If someone walks in for a diagnosis, we can throw out the model and still be 262/(262+130) = 67\\% accurate simply by always guessing that they dont! That means that if our model isnt AT LEAST this accurate, the model isn't very good.  Of course, the opposite is true for predicting whether someone HAS diabetes.  We will only be accurate about 1/3 of the time, if we guess that they are diabetic.\n",
    "\n",
    "Referring to our model now, if someone walks in for a diagnosis (i.e., we dont know their true state, but we rely on the model's prediction):\n",
    "* if our model predicts someone was not diabetic (sum of the first column, n=232), we would be correct 201/232, or about 87\\% of the time.  That is a marginal improvement over 67\\%. Note that is also means our model gives a false negative 13\\% of the time. This is very bad because it means we have told someone with diabetes that they do not have the disease.\n",
    "* if our model predicts someone IS diabetic (sum of the second column, n=160), we would be correct about 38\\% of the time. This is again only a marginal improvement over the base of 33\\%. This is also bad, because 62\\% of the time we are telling people non-diabetics that they have diabetes.  If we start them on insulin, etc., this would be very dangerous. \n",
    "\n",
    "Another way to look at the accuracy of our model is to consider how our model performs, if we already know the outcome (whether the person has diabetes):\n",
    "* Given that someone is not diabetic (sum of the first row, n=262), our model will be correct 201/262 (77\\%) of the time.\n",
    "* And if someone is diabetic (sum of the second row, n=130), our model will be correct about 76\\% of the time.\n",
    "\n",
    "The moral of the story is that our model isnt great, but it is marginally better than random selection. It would never be used, however, to determine whether someone truly has diabetes!"
   ]
  }
 ],
 "metadata": {
  "kernelspec": {
   "display_name": "Python 3 (ipykernel)",
   "language": "python",
   "name": "python3"
  },
  "language_info": {
   "codemirror_mode": {
    "name": "ipython",
    "version": 3
   },
   "file_extension": ".py",
   "mimetype": "text/x-python",
   "name": "python",
   "nbconvert_exporter": "python",
   "pygments_lexer": "ipython3",
   "version": "3.8.8"
  }
 },
 "nbformat": 4,
 "nbformat_minor": 4
}
