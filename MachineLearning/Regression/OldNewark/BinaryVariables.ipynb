{
 "cells": [
  {
   "cell_type": "markdown",
   "metadata": {},
   "source": [
    "Let's set up our data"
   ]
  },
  {
   "cell_type": "markdown",
   "metadata": {},
   "source": [
    "The above dataset includes the ORCHARD column, which is 1 if the house is on Orchard and 0 otherwise.  Binary variables like this can be very effective, since it allows us to examine the marginal value of a single factor (in this case, having a house on Orchard).\n",
    "\n",
    "But what about the other streets?  What are the relative effects of houses on Apple, Townsend, and the other streets?  How do you handle regression with categorical variables, when there are more than two categories?\n",
    "\n",
    "The answer is to use multiple columns.  For example, assume you have three streets, Apple, Beverly, and Carousel.  Assume the data look like this:\n",
    "\n"
   ]
  },
  {
   "cell_type": "code",
   "execution_count": 1,
   "metadata": {},
   "outputs": [
    {
     "data": {
      "text/html": [
       "<div>\n",
       "<style scoped>\n",
       "    .dataframe tbody tr th:only-of-type {\n",
       "        vertical-align: middle;\n",
       "    }\n",
       "\n",
       "    .dataframe tbody tr th {\n",
       "        vertical-align: top;\n",
       "    }\n",
       "\n",
       "    .dataframe thead th {\n",
       "        text-align: right;\n",
       "    }\n",
       "</style>\n",
       "<table border=\"1\" class=\"dataframe\">\n",
       "  <thead>\n",
       "    <tr style=\"text-align: right;\">\n",
       "      <th></th>\n",
       "      <th>ID</th>\n",
       "      <th>STREETNO</th>\n",
       "      <th>STREET</th>\n",
       "      <th>ZESTIMATE</th>\n",
       "      <th>SQFT</th>\n",
       "      <th>BEDR</th>\n",
       "      <th>BATHR</th>\n",
       "      <th>YRBUILT</th>\n",
       "      <th>LOTSIZE</th>\n",
       "      <th>SOLDFOR</th>\n",
       "      <th>YRSOLD</th>\n",
       "    </tr>\n",
       "  </thead>\n",
       "  <tbody>\n",
       "    <tr>\n",
       "      <th>0</th>\n",
       "      <td>150</td>\n",
       "      <td>504</td>\n",
       "      <td>Apple</td>\n",
       "      <td>244069</td>\n",
       "      <td>1960</td>\n",
       "      <td>3</td>\n",
       "      <td>2.0</td>\n",
       "      <td>1400</td>\n",
       "      <td>0.36</td>\n",
       "      <td>NaN</td>\n",
       "      <td>NaN</td>\n",
       "    </tr>\n",
       "    <tr>\n",
       "      <th>1</th>\n",
       "      <td>23</td>\n",
       "      <td>120</td>\n",
       "      <td>Townsend</td>\n",
       "      <td>303508</td>\n",
       "      <td>1800</td>\n",
       "      <td>3</td>\n",
       "      <td>3.0</td>\n",
       "      <td>1903</td>\n",
       "      <td>0.35</td>\n",
       "      <td>183000.0</td>\n",
       "      <td>1997.0</td>\n",
       "    </tr>\n",
       "    <tr>\n",
       "      <th>2</th>\n",
       "      <td>95</td>\n",
       "      <td>56</td>\n",
       "      <td>Sunset</td>\n",
       "      <td>307445</td>\n",
       "      <td>2186</td>\n",
       "      <td>4</td>\n",
       "      <td>3.0</td>\n",
       "      <td>1915</td>\n",
       "      <td>0.26</td>\n",
       "      <td>532000.0</td>\n",
       "      <td>2007.0</td>\n",
       "    </tr>\n",
       "    <tr>\n",
       "      <th>3</th>\n",
       "      <td>99</td>\n",
       "      <td>45</td>\n",
       "      <td>Sunset</td>\n",
       "      <td>297546</td>\n",
       "      <td>1625</td>\n",
       "      <td>3</td>\n",
       "      <td>1.5</td>\n",
       "      <td>1915</td>\n",
       "      <td>0.27</td>\n",
       "      <td>NaN</td>\n",
       "      <td>NaN</td>\n",
       "    </tr>\n",
       "    <tr>\n",
       "      <th>4</th>\n",
       "      <td>10</td>\n",
       "      <td>208</td>\n",
       "      <td>Orchard</td>\n",
       "      <td>364482</td>\n",
       "      <td>2125</td>\n",
       "      <td>5</td>\n",
       "      <td>4.0</td>\n",
       "      <td>1921</td>\n",
       "      <td>0.53</td>\n",
       "      <td>280000.0</td>\n",
       "      <td>1995.0</td>\n",
       "    </tr>\n",
       "  </tbody>\n",
       "</table>\n",
       "</div>"
      ],
      "text/plain": [
       "    ID  STREETNO    STREET  ZESTIMATE  SQFT  BEDR  BATHR  YRBUILT  LOTSIZE  \\\n",
       "0  150       504     Apple     244069  1960     3    2.0     1400     0.36   \n",
       "1   23       120  Townsend     303508  1800     3    3.0     1903     0.35   \n",
       "2   95        56    Sunset     307445  2186     4    3.0     1915     0.26   \n",
       "3   99        45    Sunset     297546  1625     3    1.5     1915     0.27   \n",
       "4   10       208   Orchard     364482  2125     5    4.0     1921     0.53   \n",
       "\n",
       "    SOLDFOR  YRSOLD  \n",
       "0       NaN     NaN  \n",
       "1  183000.0  1997.0  \n",
       "2  532000.0  2007.0  \n",
       "3       NaN     NaN  \n",
       "4  280000.0  1995.0  "
      ]
     },
     "execution_count": 1,
     "metadata": {},
     "output_type": "execute_result"
    }
   ],
   "source": [
    "import numpy as np\n",
    "import pandas as pd\n",
    "import matplotlib.pyplot as plt\n",
    "%matplotlib inline\n",
    "\n",
    "df = pd.read_csv('Streets.csv')\n",
    "df.head()"
   ]
  },
  {
   "cell_type": "markdown",
   "metadata": {},
   "source": [
    "I simplified the Old Newark dataset to make it easier to understand.  Let's confirm our streets by running a frequency table:"
   ]
  },
  {
   "cell_type": "code",
   "execution_count": 2,
   "metadata": {},
   "outputs": [
    {
     "data": {
      "text/plain": [
       "Orchard     4\n",
       "Sunset      3\n",
       "Townsend    1\n",
       "Apple       1\n",
       "Name: STREET, dtype: int64"
      ]
     },
     "execution_count": 2,
     "metadata": {},
     "output_type": "execute_result"
    }
   ],
   "source": [
    "df.STREET.value_counts()"
   ]
  },
  {
   "cell_type": "markdown",
   "metadata": {},
   "source": [
    "In our previous example, we had only two values for the ORCHARD column: 1 and 0. We also needed only one column to handle the fact that we were examining Orchard vs non-Orchard houses.  In a similar manner, if you have n different values, you need only n-1 columns.  Since we have four different streets in our reduced dataframe, we need only three columns to handle it.  \n",
    "\n",
    "Pandas also have an awesome function that handles the encoding for us: get_dummies. The following code generates the three needed columns that are necessary to track the four different streets:"
   ]
  },
  {
   "cell_type": "code",
   "execution_count": 3,
   "metadata": {},
   "outputs": [],
   "source": [
    "df2 = df.copy()\n",
    "df2 = pd.get_dummies(df2)"
   ]
  },
  {
   "cell_type": "code",
   "execution_count": 4,
   "metadata": {},
   "outputs": [
    {
     "data": {
      "text/html": [
       "<div>\n",
       "<style scoped>\n",
       "    .dataframe tbody tr th:only-of-type {\n",
       "        vertical-align: middle;\n",
       "    }\n",
       "\n",
       "    .dataframe tbody tr th {\n",
       "        vertical-align: top;\n",
       "    }\n",
       "\n",
       "    .dataframe thead th {\n",
       "        text-align: right;\n",
       "    }\n",
       "</style>\n",
       "<table border=\"1\" class=\"dataframe\">\n",
       "  <thead>\n",
       "    <tr style=\"text-align: right;\">\n",
       "      <th></th>\n",
       "      <th>ID</th>\n",
       "      <th>STREETNO</th>\n",
       "      <th>ZESTIMATE</th>\n",
       "      <th>SQFT</th>\n",
       "      <th>BEDR</th>\n",
       "      <th>BATHR</th>\n",
       "      <th>YRBUILT</th>\n",
       "      <th>LOTSIZE</th>\n",
       "      <th>SOLDFOR</th>\n",
       "      <th>YRSOLD</th>\n",
       "      <th>STREET_Apple</th>\n",
       "      <th>STREET_Orchard</th>\n",
       "      <th>STREET_Sunset</th>\n",
       "      <th>STREET_Townsend</th>\n",
       "    </tr>\n",
       "  </thead>\n",
       "  <tbody>\n",
       "    <tr>\n",
       "      <th>0</th>\n",
       "      <td>150</td>\n",
       "      <td>504</td>\n",
       "      <td>244069</td>\n",
       "      <td>1960</td>\n",
       "      <td>3</td>\n",
       "      <td>2.0</td>\n",
       "      <td>1400</td>\n",
       "      <td>0.36</td>\n",
       "      <td>NaN</td>\n",
       "      <td>NaN</td>\n",
       "      <td>1</td>\n",
       "      <td>0</td>\n",
       "      <td>0</td>\n",
       "      <td>0</td>\n",
       "    </tr>\n",
       "    <tr>\n",
       "      <th>1</th>\n",
       "      <td>23</td>\n",
       "      <td>120</td>\n",
       "      <td>303508</td>\n",
       "      <td>1800</td>\n",
       "      <td>3</td>\n",
       "      <td>3.0</td>\n",
       "      <td>1903</td>\n",
       "      <td>0.35</td>\n",
       "      <td>183000.0</td>\n",
       "      <td>1997.0</td>\n",
       "      <td>0</td>\n",
       "      <td>0</td>\n",
       "      <td>0</td>\n",
       "      <td>1</td>\n",
       "    </tr>\n",
       "    <tr>\n",
       "      <th>2</th>\n",
       "      <td>95</td>\n",
       "      <td>56</td>\n",
       "      <td>307445</td>\n",
       "      <td>2186</td>\n",
       "      <td>4</td>\n",
       "      <td>3.0</td>\n",
       "      <td>1915</td>\n",
       "      <td>0.26</td>\n",
       "      <td>532000.0</td>\n",
       "      <td>2007.0</td>\n",
       "      <td>0</td>\n",
       "      <td>0</td>\n",
       "      <td>1</td>\n",
       "      <td>0</td>\n",
       "    </tr>\n",
       "    <tr>\n",
       "      <th>3</th>\n",
       "      <td>99</td>\n",
       "      <td>45</td>\n",
       "      <td>297546</td>\n",
       "      <td>1625</td>\n",
       "      <td>3</td>\n",
       "      <td>1.5</td>\n",
       "      <td>1915</td>\n",
       "      <td>0.27</td>\n",
       "      <td>NaN</td>\n",
       "      <td>NaN</td>\n",
       "      <td>0</td>\n",
       "      <td>0</td>\n",
       "      <td>1</td>\n",
       "      <td>0</td>\n",
       "    </tr>\n",
       "    <tr>\n",
       "      <th>4</th>\n",
       "      <td>10</td>\n",
       "      <td>208</td>\n",
       "      <td>364482</td>\n",
       "      <td>2125</td>\n",
       "      <td>5</td>\n",
       "      <td>4.0</td>\n",
       "      <td>1921</td>\n",
       "      <td>0.53</td>\n",
       "      <td>280000.0</td>\n",
       "      <td>1995.0</td>\n",
       "      <td>0</td>\n",
       "      <td>1</td>\n",
       "      <td>0</td>\n",
       "      <td>0</td>\n",
       "    </tr>\n",
       "  </tbody>\n",
       "</table>\n",
       "</div>"
      ],
      "text/plain": [
       "    ID  STREETNO  ZESTIMATE  SQFT  BEDR  BATHR  YRBUILT  LOTSIZE   SOLDFOR  \\\n",
       "0  150       504     244069  1960     3    2.0     1400     0.36       NaN   \n",
       "1   23       120     303508  1800     3    3.0     1903     0.35  183000.0   \n",
       "2   95        56     307445  2186     4    3.0     1915     0.26  532000.0   \n",
       "3   99        45     297546  1625     3    1.5     1915     0.27       NaN   \n",
       "4   10       208     364482  2125     5    4.0     1921     0.53  280000.0   \n",
       "\n",
       "   YRSOLD  STREET_Apple  STREET_Orchard  STREET_Sunset  STREET_Townsend  \n",
       "0     NaN             1               0              0                0  \n",
       "1  1997.0             0               0              0                1  \n",
       "2  2007.0             0               0              1                0  \n",
       "3     NaN             0               0              1                0  \n",
       "4  1995.0             0               1              0                0  "
      ]
     },
     "execution_count": 4,
     "metadata": {},
     "output_type": "execute_result"
    }
   ],
   "source": [
    "df2.head()"
   ]
  },
  {
   "cell_type": "markdown",
   "metadata": {},
   "source": [
    "Notice how the df2 dataframe now has four new columns, each of which are coded to indicate a specific street.  STREET_Apple, for example, has a value of 1 when the street is Apple, and a value of 0 when it is not. The other streets are similar.\n",
    "\n",
    "I mentioned that you only need three columns when you have four different categories.  Assume that STREET_Townsend does not exist.  The first row indicates Apple, the third and fourth rows are Sunset, and the last row is Orchard.  How do we know then when a house is on Townsend?  The values for the three columns are all zero (row 2).  \n",
    "\n",
    "**When doing regression with these encoded columns, it is critical that you do NOT include all four columns!**  Why? The combination of the four columns will result in strong multicollinearity, since all together they are perfectly correlated with each other.  "
   ]
  },
  {
   "cell_type": "markdown",
   "metadata": {},
   "source": [
    "Let's run a regression that includes only the four columns we just derived:"
   ]
  },
  {
   "cell_type": "code",
   "execution_count": 5,
   "metadata": {},
   "outputs": [],
   "source": [
    "# split data into X and Y dataframes\n",
    "X = df2[['STREET_Apple', 'STREET_Orchard',\n",
    "       'STREET_Sunset', 'STREET_Townsend']].copy()\n",
    "Y = df2['ZESTIMATE'].copy()"
   ]
  },
  {
   "cell_type": "code",
   "execution_count": 7,
   "metadata": {},
   "outputs": [],
   "source": [
    "# Run regression using statsmodels\n",
    "import statsmodels.api as sm\n",
    "from statsmodels.stats.outliers_influence import variance_inflation_factor\n",
    "import math\n",
    "X = sm.add_constant(X) # required if constant expected\n",
    "est = sm.OLS(Y,X).fit() # fit model\n"
   ]
  },
  {
   "cell_type": "markdown",
   "metadata": {},
   "source": [
    "Now let's print out the VIF statistics:"
   ]
  },
  {
   "cell_type": "code",
   "execution_count": 7,
   "metadata": {},
   "outputs": [
    {
     "name": "stdout",
     "output_type": "stream",
     "text": [
      "VIF:    VIF Factor         features\n",
      "0         NaN            const\n",
      "1         inf     STREET_Apple\n",
      "2         inf   STREET_Orchard\n",
      "3         inf    STREET_Sunset\n",
      "4         inf  STREET_Townsend\n"
     ]
    },
    {
     "name": "stderr",
     "output_type": "stream",
     "text": [
      "C:\\Users\\Mark\\anaconda3\\lib\\site-packages\\statsmodels\\regression\\linear_model.py:1685: RuntimeWarning: invalid value encountered in double_scalars\n",
      "  return 1 - self.ssr/self.centered_tss\n",
      "C:\\Users\\Mark\\anaconda3\\lib\\site-packages\\statsmodels\\stats\\outliers_influence.py:193: RuntimeWarning: divide by zero encountered in double_scalars\n",
      "  vif = 1. / (1. - r_squared_i)\n"
     ]
    }
   ],
   "source": [
    "variables = est.model.exog # get model features\n",
    "vif = pd.DataFrame() # create a dataframe\n",
    "vif[\"VIF Factor\"] = [variance_inflation_factor(variables, i) for i in range(variables.shape[1])]\n",
    "vif[\"features\"] = X.columns\n",
    "print('VIF: {}'.format(vif))"
   ]
  },
  {
   "cell_type": "markdown",
   "metadata": {},
   "source": [
    "Note that the VIF scores are \"inf\", which means infinity.  With a perfect correlation (1) in the VIF formula, the result is a divided by zero error, which results in an infinite VIF level.\n",
    "\n",
    "So instead, we choose a reference street, and include all the OTHER variables.  For example, if you want to see the value of owning a house relative to one on Townsend, you would include the other columns:"
   ]
  },
  {
   "cell_type": "code",
   "execution_count": 8,
   "metadata": {},
   "outputs": [],
   "source": [
    "# split data into X and Y dataframes\n",
    "X = df2[['STREET_Apple', 'STREET_Orchard',\n",
    "       'STREET_Sunset', 'SQFT']].copy()\n",
    "Y = df2['ZESTIMATE'].copy()"
   ]
  },
  {
   "cell_type": "code",
   "execution_count": 9,
   "metadata": {},
   "outputs": [
    {
     "name": "stdout",
     "output_type": "stream",
     "text": [
      "                            OLS Regression Results                            \n",
      "==============================================================================\n",
      "Dep. Variable:              ZESTIMATE   R-squared:                       0.753\n",
      "Model:                            OLS   Adj. R-squared:                  0.506\n",
      "Method:                 Least Squares   F-statistic:                     3.047\n",
      "Date:                Wed, 11 Nov 2020   Prob (F-statistic):              0.153\n",
      "Time:                        11:56:33   Log-Likelihood:                -99.123\n",
      "No. Observations:                   9   AIC:                             208.2\n",
      "Df Residuals:                       4   BIC:                             209.2\n",
      "Df Model:                           4                                         \n",
      "Covariance Type:            nonrobust                                         \n",
      "==================================================================================\n",
      "                     coef    std err          t      P>|t|      [0.025      0.975]\n",
      "----------------------------------------------------------------------------------\n",
      "const           2.431e+05   5.98e+04      4.064      0.015     7.7e+04    4.09e+05\n",
      "STREET_Apple    -6.48e+04   3.15e+04     -2.054      0.109   -1.52e+05    2.28e+04\n",
      "STREET_Orchard  1.516e+04   2.53e+04      0.599      0.581   -5.51e+04    8.54e+04\n",
      "STREET_Sunset    169.5943   2.55e+04      0.007      0.995   -7.07e+04    7.11e+04\n",
      "SQFT              33.5364     30.906      1.085      0.339     -52.272     119.345\n",
      "==============================================================================\n",
      "Omnibus:                        7.184   Durbin-Watson:                   1.683\n",
      "Prob(Omnibus):                  0.028   Jarque-Bera (JB):                2.374\n",
      "Skew:                           1.139   Prob(JB):                        0.305\n",
      "Kurtosis:                       4.069   Cond. No.                     1.58e+04\n",
      "==============================================================================\n",
      "\n",
      "Warnings:\n",
      "[1] Standard Errors assume that the covariance matrix of the errors is correctly specified.\n",
      "[2] The condition number is large, 1.58e+04. This might indicate that there are\n",
      "strong multicollinearity or other numerical problems.\n",
      "\n",
      "Average error: 22030.16.\n"
     ]
    },
    {
     "name": "stderr",
     "output_type": "stream",
     "text": [
      "C:\\Users\\Mark\\anaconda3\\lib\\site-packages\\scipy\\stats\\stats.py:1535: UserWarning: kurtosistest only valid for n>=20 ... continuing anyway, n=9\n",
      "  \"anyway, n=%i\" % int(n))\n"
     ]
    }
   ],
   "source": [
    "# Run regression using statsmodels\n",
    "import statsmodels.api as sm\n",
    "from statsmodels.stats.outliers_influence import variance_inflation_factor\n",
    "import math\n",
    "X = sm.add_constant(X) # required if constant expected\n",
    "est = sm.OLS(Y,X).fit() # fit model\n",
    "predictions = est.predict() # get predicted values\n",
    "print(est.summary()) # prints full regression results\n",
    "print(\"\\nAverage error: {:.2f}.\".format(math.sqrt(est.mse_resid)))"
   ]
  },
  {
   "cell_type": "markdown",
   "metadata": {},
   "source": [
    "The above results indicate that relative to Townsend, a house on:\n",
    "* Orchard is worth \\$15160 more (but it is not significant)\n",
    "* Apple is worth \\$64800 less (and it is significant)\n",
    "* Sunset is woth \\$169 more (and it is not significant)\n",
    "\n",
    "You should also note the disparity between the R2 and the adjusted R2.  This suggests that the model is overfit."
   ]
  },
  {
   "cell_type": "code",
   "execution_count": 27,
   "metadata": {},
   "outputs": [
    {
     "name": "stdout",
     "output_type": "stream",
     "text": [
      "VIF:    VIF Factor        features\n",
      "0   66.389637           const\n",
      "1    1.822563    STREET_Apple\n",
      "2    2.931535  STREET_Orchard\n",
      "3    2.686696   STREET_Sunset\n",
      "4    1.251259            SQFT\n"
     ]
    }
   ],
   "source": [
    "variables = est.model.exog # get model features\n",
    "vif = pd.DataFrame() # create a dataframe\n",
    "vif[\"VIF Factor\"] = [variance_inflation_factor(variables, i) for i in range(variables.shape[1])]\n",
    "vif[\"features\"] = X.columns\n",
    "print('VIF: {}'.format(vif))"
   ]
  },
  {
   "cell_type": "markdown",
   "metadata": {},
   "source": [
    "Even without the third column, the VIF results suggest the presence of multicollinearity.  "
   ]
  },
  {
   "cell_type": "code",
   "execution_count": null,
   "metadata": {},
   "outputs": [],
   "source": []
  }
 ],
 "metadata": {
  "kernelspec": {
   "display_name": "Python 3",
   "language": "python",
   "name": "python3"
  },
  "language_info": {
   "codemirror_mode": {
    "name": "ipython",
    "version": 3
   },
   "file_extension": ".py",
   "mimetype": "text/x-python",
   "name": "python",
   "nbconvert_exporter": "python",
   "pygments_lexer": "ipython3",
   "version": "3.7.3"
  }
 },
 "nbformat": 4,
 "nbformat_minor": 4
}
