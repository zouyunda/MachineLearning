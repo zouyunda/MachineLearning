{
 "cells": [
  {
   "cell_type": "markdown",
   "metadata": {},
   "source": [
    "# Regression Part 2\n",
    "\n",
    "The first series of notebooks walked you through a regression, from swimming, to feature generation, to final analysis.  In this notebook, we will take a step back on the Newark real estate dataset and first look at SQFT the best predictor of the ZESTIMATE. Let's load up the data and generate our features:"
   ]
  },
  {
   "cell_type": "code",
   "execution_count": 13,
   "metadata": {},
   "outputs": [],
   "source": [
    "import numpy as np\n",
    "import pandas as pd\n",
    "import matplotlib.pyplot as plt\n",
    "%matplotlib inline\n",
    "\n",
    "houses = pd.read_csv('OldNewark.csv')\n",
    "df2 = houses.copy()\n",
    "\n",
    "df2['FACEWEST'] = df2['STREETNO'] % 2\n",
    "df2['ORCHARD'] = 0\n",
    "df2.loc[df2['STREET'] == 'Orchard', 'ORCHARD'] = 1\n",
    "df2['AGE'] = 2019 - df2['YRBUILT']\n",
    "\n",
    "lotsqft = df2['LOTSIZE'] * 43560 # convert pct to sqft\n",
    "df2['COVERAGE'] = (df2['SQFT']/2) / lotsqft # assume two stories. Half of house is on the ground\n",
    "df2['SALESAGE'] = 2019 - df2['YRSOLD']"
   ]
  },
  {
   "cell_type": "markdown",
   "metadata": {},
   "source": [
    "## Generate the regression"
   ]
  },
  {
   "cell_type": "code",
   "execution_count": 14,
   "metadata": {},
   "outputs": [],
   "source": [
    "# split data into X and Y dataframes\n",
    "X = df2[['SQFT']].copy()\n",
    "Y = df2['ZESTIMATE'].copy()"
   ]
  },
  {
   "cell_type": "code",
   "execution_count": 15,
   "metadata": {},
   "outputs": [
    {
     "data": {
      "text/plain": [
       "Index(['ID', 'STREETNO', 'STREET', 'ZESTIMATE', 'SQFT', 'BEDR', 'BATHR',\n",
       "       'YRBUILT', 'LOTSIZE', 'SOLDFOR', 'YRSOLD', 'FACEWEST', 'ORCHARD', 'AGE',\n",
       "       'COVERAGE', 'SALESAGE'],\n",
       "      dtype='object')"
      ]
     },
     "execution_count": 15,
     "metadata": {},
     "output_type": "execute_result"
    }
   ],
   "source": [
    "df2.columns"
   ]
  },
  {
   "cell_type": "code",
   "execution_count": 16,
   "metadata": {},
   "outputs": [
    {
     "name": "stdout",
     "output_type": "stream",
     "text": [
      "                            OLS Regression Results                            \n",
      "==============================================================================\n",
      "Dep. Variable:              ZESTIMATE   R-squared:                       0.537\n",
      "Model:                            OLS   Adj. R-squared:                  0.534\n",
      "Method:                 Least Squares   F-statistic:                     190.1\n",
      "Date:                Tue, 14 Jul 2020   Prob (F-statistic):           3.28e-29\n",
      "Time:                        14:49:59   Log-Likelihood:                -2014.9\n",
      "No. Observations:                 166   AIC:                             4034.\n",
      "Df Residuals:                     164   BIC:                             4040.\n",
      "Df Model:                           1                                         \n",
      "Covariance Type:            nonrobust                                         \n",
      "==============================================================================\n",
      "                 coef    std err          t      P>|t|      [0.025      0.975]\n",
      "------------------------------------------------------------------------------\n",
      "const       1.519e+05   1.18e+04     12.854      0.000    1.29e+05    1.75e+05\n",
      "SQFT          71.4897      5.185     13.788      0.000      61.252      81.728\n",
      "==============================================================================\n",
      "Omnibus:                       92.537   Durbin-Watson:                   1.186\n",
      "Prob(Omnibus):                  0.000   Jarque-Bera (JB):              596.752\n",
      "Skew:                           1.974   Prob(JB):                    2.61e-130\n",
      "Kurtosis:                      11.408   Cond. No.                     7.63e+03\n",
      "==============================================================================\n",
      "\n",
      "Warnings:\n",
      "[1] Standard Errors assume that the covariance matrix of the errors is correctly specified.\n",
      "[2] The condition number is large, 7.63e+03. This might indicate that there are\n",
      "strong multicollinearity or other numerical problems.\n",
      "\n",
      "Average error: 45476.74.\n"
     ]
    }
   ],
   "source": [
    "# Run regression using statsmodels\n",
    "import statsmodels.api as sm\n",
    "\n",
    "X = sm.add_constant(X) # required if constant expected\n",
    "est = sm.OLS(Y,X).fit() # fit model\n",
    "predictions = est.predict() # get predicted values\n",
    "print(est.summary())\n",
    "print(\"\\nAverage error: {:.2f}.\".format(math.sqrt(est.mse_resid)))"
   ]
  },
  {
   "cell_type": "code",
   "execution_count": 17,
   "metadata": {},
   "outputs": [
    {
     "data": {
      "image/png": "[encoded data removed]",
      "text/plain": [
       "<Figure size 432x288 with 1 Axes>"
      ]
     },
     "metadata": {
      "needs_background": "light"
     },
     "output_type": "display_data"
    }
   ],
   "source": [
    "plt.ylabel('Actual & Predicted ZESTIMATES')\n",
    "plt.xlabel('SQFT')\n",
    "plt.title('ZESTIMATES vs. SQFT')\n",
    "plt.plot(X['SQFT'], predictions, c='r')\n",
    "plt.scatter(X['SQFT'], Y)\n",
    "plt.show()"
   ]
  },
  {
   "cell_type": "markdown",
   "metadata": {},
   "source": [
    "### Things to note\n",
    "The variance above the line seems to be greater than below the line.  This may be problematic, since regression assumes that the variation is consistent across all values of the independent variables.  This assumption is called homoscedascity."
   ]
  },
  {
   "cell_type": "code",
   "execution_count": 18,
   "metadata": {},
   "outputs": [],
   "source": [
    "df2['HIGHPRICED'] = df2.ZESTIMATE > 450000\n",
    "df2 = df2.dropna()"
   ]
  },
  {
   "cell_type": "code",
   "execution_count": 19,
   "metadata": {},
   "outputs": [
    {
     "data": {
      "text/plain": [
       "Index(['ID', 'STREETNO', 'STREET', 'ZESTIMATE', 'SQFT', 'BEDR', 'BATHR',\n",
       "       'YRBUILT', 'LOTSIZE', 'SOLDFOR', 'YRSOLD', 'FACEWEST', 'ORCHARD', 'AGE',\n",
       "       'COVERAGE', 'SALESAGE', 'HIGHPRICED'],\n",
       "      dtype='object')"
      ]
     },
     "execution_count": 19,
     "metadata": {},
     "output_type": "execute_result"
    }
   ],
   "source": [
    "df2.columns"
   ]
  },
  {
   "cell_type": "code",
   "execution_count": 20,
   "metadata": {},
   "outputs": [
    {
     "data": {
      "text/html": [
       "<div>\n",
       "<style scoped>\n",
       "    .dataframe tbody tr th:only-of-type {\n",
       "        vertical-align: middle;\n",
       "    }\n",
       "\n",
       "    .dataframe tbody tr th {\n",
       "        vertical-align: top;\n",
       "    }\n",
       "\n",
       "    .dataframe thead th {\n",
       "        text-align: right;\n",
       "    }\n",
       "</style>\n",
       "<table border=\"1\" class=\"dataframe\">\n",
       "  <thead>\n",
       "    <tr style=\"text-align: right;\">\n",
       "      <th></th>\n",
       "      <th>HIGHPRICED</th>\n",
       "      <th>False</th>\n",
       "      <th>True</th>\n",
       "    </tr>\n",
       "  </thead>\n",
       "  <tbody>\n",
       "    <tr>\n",
       "      <th rowspan=\"8\" valign=\"top\">YRSOLD</th>\n",
       "      <th>count</th>\n",
       "      <td>116.000000</td>\n",
       "      <td>6.000000</td>\n",
       "    </tr>\n",
       "    <tr>\n",
       "      <th>mean</th>\n",
       "      <td>2004.413793</td>\n",
       "      <td>2015.333333</td>\n",
       "    </tr>\n",
       "    <tr>\n",
       "      <th>std</th>\n",
       "      <td>12.326055</td>\n",
       "      <td>5.887841</td>\n",
       "    </tr>\n",
       "    <tr>\n",
       "      <th>min</th>\n",
       "      <td>1971.000000</td>\n",
       "      <td>2004.000000</td>\n",
       "    </tr>\n",
       "    <tr>\n",
       "      <th>25%</th>\n",
       "      <td>1997.750000</td>\n",
       "      <td>2014.750000</td>\n",
       "    </tr>\n",
       "    <tr>\n",
       "      <th>50%</th>\n",
       "      <td>2006.000000</td>\n",
       "      <td>2018.000000</td>\n",
       "    </tr>\n",
       "    <tr>\n",
       "      <th>75%</th>\n",
       "      <td>2015.250000</td>\n",
       "      <td>2019.000000</td>\n",
       "    </tr>\n",
       "    <tr>\n",
       "      <th>max</th>\n",
       "      <td>2019.000000</td>\n",
       "      <td>2019.000000</td>\n",
       "    </tr>\n",
       "    <tr>\n",
       "      <th rowspan=\"8\" valign=\"top\">SQFT</th>\n",
       "      <th>count</th>\n",
       "      <td>116.000000</td>\n",
       "      <td>6.000000</td>\n",
       "    </tr>\n",
       "    <tr>\n",
       "      <th>mean</th>\n",
       "      <td>2122.137931</td>\n",
       "      <td>3592.000000</td>\n",
       "    </tr>\n",
       "    <tr>\n",
       "      <th>std</th>\n",
       "      <td>559.189956</td>\n",
       "      <td>1602.929818</td>\n",
       "    </tr>\n",
       "    <tr>\n",
       "      <th>min</th>\n",
       "      <td>1050.000000</td>\n",
       "      <td>1425.000000</td>\n",
       "    </tr>\n",
       "    <tr>\n",
       "      <th>25%</th>\n",
       "      <td>1750.000000</td>\n",
       "      <td>2431.250000</td>\n",
       "    </tr>\n",
       "    <tr>\n",
       "      <th>50%</th>\n",
       "      <td>2150.000000</td>\n",
       "      <td>3737.500000</td>\n",
       "    </tr>\n",
       "    <tr>\n",
       "      <th>75%</th>\n",
       "      <td>2500.000000</td>\n",
       "      <td>4856.250000</td>\n",
       "    </tr>\n",
       "    <tr>\n",
       "      <th>max</th>\n",
       "      <td>4310.000000</td>\n",
       "      <td>5427.000000</td>\n",
       "    </tr>\n",
       "  </tbody>\n",
       "</table>\n",
       "</div>"
      ],
      "text/plain": [
       "HIGHPRICED          False        True \n",
       "YRSOLD count   116.000000     6.000000\n",
       "       mean   2004.413793  2015.333333\n",
       "       std      12.326055     5.887841\n",
       "       min    1971.000000  2004.000000\n",
       "       25%    1997.750000  2014.750000\n",
       "       50%    2006.000000  2018.000000\n",
       "       75%    2015.250000  2019.000000\n",
       "       max    2019.000000  2019.000000\n",
       "SQFT   count   116.000000     6.000000\n",
       "       mean   2122.137931  3592.000000\n",
       "       std     559.189956  1602.929818\n",
       "       min    1050.000000  1425.000000\n",
       "       25%    1750.000000  2431.250000\n",
       "       50%    2150.000000  3737.500000\n",
       "       75%    2500.000000  4856.250000\n",
       "       max    4310.000000  5427.000000"
      ]
     },
     "execution_count": 20,
     "metadata": {},
     "output_type": "execute_result"
    }
   ],
   "source": [
    "temp = df2[['YRSOLD','HIGHPRICED','SQFT']].copy()\n",
    "temp.groupby('HIGHPRICED').describe().transpose()"
   ]
  },
  {
   "cell_type": "markdown",
   "metadata": {},
   "source": [
    "The above analysis suggests that houses that are above \\\\$450000 were sold on average ten years after the other houses.  They are also much bigger, on average.  This suggests that more recent houses are higher priced higher."
   ]
  },
  {
   "cell_type": "code",
   "execution_count": 21,
   "metadata": {},
   "outputs": [],
   "source": [
    "# split data into X and Y dataframes\n",
    "X = df2[['SQFT','YRSOLD']].copy()\n",
    "Y = df2['ZESTIMATE'].copy()"
   ]
  },
  {
   "cell_type": "code",
   "execution_count": 22,
   "metadata": {
    "scrolled": true
   },
   "outputs": [
    {
     "name": "stdout",
     "output_type": "stream",
     "text": [
      "                            OLS Regression Results                            \n",
      "==============================================================================\n",
      "Dep. Variable:              ZESTIMATE   R-squared:                       0.535\n",
      "Model:                            OLS   Adj. R-squared:                  0.527\n",
      "Method:                 Least Squares   F-statistic:                     68.47\n",
      "Date:                Tue, 14 Jul 2020   Prob (F-statistic):           1.63e-20\n",
      "Time:                        14:49:59   Log-Likelihood:                -1491.4\n",
      "No. Observations:                 122   AIC:                             2989.\n",
      "Df Residuals:                     119   BIC:                             2997.\n",
      "Df Model:                           2                                         \n",
      "Covariance Type:            nonrobust                                         \n",
      "==============================================================================\n",
      "                 coef    std err          t      P>|t|      [0.025      0.975]\n",
      "------------------------------------------------------------------------------\n",
      "const      -1.024e+06   7.42e+05     -1.380      0.170   -2.49e+06    4.46e+05\n",
      "SQFT          74.7304      6.400     11.677      0.000      62.058      87.403\n",
      "YRSOLD       583.8132    369.642      1.579      0.117    -148.114    1315.741\n",
      "==============================================================================\n",
      "Omnibus:                       59.919   Durbin-Watson:                   1.130\n",
      "Prob(Omnibus):                  0.000   Jarque-Bera (JB):              270.659\n",
      "Skew:                           1.661   Prob(JB):                     1.69e-59\n",
      "Kurtosis:                       9.497   Cond. No.                     4.96e+05\n",
      "==============================================================================\n",
      "\n",
      "Warnings:\n",
      "[1] Standard Errors assume that the covariance matrix of the errors is correctly specified.\n",
      "[2] The condition number is large, 4.96e+05. This might indicate that there are\n",
      "strong multicollinearity or other numerical problems.\n",
      "\n",
      "Average error: 49917.62.\n"
     ]
    }
   ],
   "source": [
    "# Run regression using statsmodels\n",
    "import statsmodels.api as sm\n",
    "\n",
    "X = sm.add_constant(X) # required if constant expected\n",
    "est = sm.OLS(Y,X).fit() # fit model\n",
    "predictions = est.predict() # get predicted values\n",
    "print(est.summary())\n",
    "print(\"\\nAverage error: {:.2f}.\".format(math.sqrt(est.mse_resid)))"
   ]
  },
  {
   "cell_type": "markdown",
   "metadata": {},
   "source": [
    "Including YRSOLD didnt have an appreciable effect on our model."
   ]
  },
  {
   "cell_type": "markdown",
   "metadata": {},
   "source": [
    "### The Outlier Effect\n",
    "We have demonstrated that the three houses that are greater than 4000 sqft can be considered outliers.  For example:"
   ]
  },
  {
   "cell_type": "code",
   "execution_count": 23,
   "metadata": {},
   "outputs": [
    {
     "data": {
      "image/png": "[encoded data removed]",
      "text/plain": [
       "<Figure size 432x288 with 1 Axes>"
      ]
     },
     "metadata": {
      "needs_background": "light"
     },
     "output_type": "display_data"
    }
   ],
   "source": [
    "plt.boxplot(df2.SQFT)\n",
    "plt.show()"
   ]
  },
  {
   "cell_type": "markdown",
   "metadata": {},
   "source": [
    "Let's run the above regression again, but this time without the outliers"
   ]
  },
  {
   "cell_type": "code",
   "execution_count": 24,
   "metadata": {},
   "outputs": [],
   "source": [
    "df3 = df2[df2.SQFT < 4000].copy()"
   ]
  },
  {
   "cell_type": "code",
   "execution_count": 25,
   "metadata": {},
   "outputs": [],
   "source": [
    "# split data into X and Y dataframes\n",
    "X = df3[['SQFT','YRSOLD']].copy()\n",
    "Y = df3['ZESTIMATE'].copy()"
   ]
  },
  {
   "cell_type": "code",
   "execution_count": 26,
   "metadata": {},
   "outputs": [
    {
     "name": "stdout",
     "output_type": "stream",
     "text": [
      "                            OLS Regression Results                            \n",
      "==============================================================================\n",
      "Dep. Variable:              ZESTIMATE   R-squared:                       0.323\n",
      "Model:                            OLS   Adj. R-squared:                  0.312\n",
      "Method:                 Least Squares   F-statistic:                     27.47\n",
      "Date:                Tue, 14 Jul 2020   Prob (F-statistic):           1.77e-10\n",
      "Time:                        14:49:59   Log-Likelihood:                -1438.7\n",
      "No. Observations:                 118   AIC:                             2883.\n",
      "Df Residuals:                     115   BIC:                             2892.\n",
      "Df Model:                           2                                         \n",
      "Covariance Type:            nonrobust                                         \n",
      "==============================================================================\n",
      "                 coef    std err          t      P>|t|      [0.025      0.975]\n",
      "------------------------------------------------------------------------------\n",
      "const      -6.077e+05   7.35e+05     -0.827      0.410   -2.06e+06    8.49e+05\n",
      "SQFT          63.6723      8.594      7.409      0.000      46.649      80.695\n",
      "YRSOLD       387.2237    365.074      1.061      0.291    -335.917    1110.365\n",
      "==============================================================================\n",
      "Omnibus:                       65.060   Durbin-Watson:                   1.171\n",
      "Prob(Omnibus):                  0.000   Jarque-Bera (JB):              329.716\n",
      "Skew:                           1.839   Prob(JB):                     2.53e-72\n",
      "Kurtosis:                      10.317   Cond. No.                     4.84e+05\n",
      "==============================================================================\n",
      "\n",
      "Warnings:\n",
      "[1] Standard Errors assume that the covariance matrix of the errors is correctly specified.\n",
      "[2] The condition number is large, 4.84e+05. This might indicate that there are\n",
      "strong multicollinearity or other numerical problems.\n",
      "\n",
      "Average error: 48364.86.\n"
     ]
    }
   ],
   "source": [
    "# Run regression using statsmodels\n",
    "import statsmodels.api as sm\n",
    "\n",
    "X = sm.add_constant(X) # required if constant expected\n",
    "est = sm.OLS(Y,X).fit() # fit model\n",
    "predictions = est.predict() # get predicted values\n",
    "print(est.summary())\n",
    "print(\"\\nAverage error: {:.2f}.\".format(math.sqrt(est.mse_resid)))"
   ]
  },
  {
   "cell_type": "markdown",
   "metadata": {},
   "source": [
    "YRSOLD is not a significant predictor.  Examine the R<sup>2</sup> and the average error levels.  Note that the R<sup>2</sup> dropped! This indicates that although we have outliers, they arent affecting our model much.  It seems that although they are much larger, the ZESTIMATE (because it is so heavily based on SQFT) is consistent with the larger size.  The question will be, however, what is the effect on the selling price?"
   ]
  },
  {
   "cell_type": "markdown",
   "metadata": {},
   "source": [
    "### Complete Your Own Analysis of Newark Real Estate\n",
    "Using the above as a guide, complete a regression analysis using SOLDFOR, which is the actual selling price of a house.  Your goal is to create a model that predicts and explains the selling price of a house.  You may NOT use ZESTIMATE, STREETNO, or ID as a predictor! Some suggestions:\n",
    "* Dont chase higher R<sup>2</sup> values.  Dont forget to watch the error levels **as well as** R<sup>2</sup>\n",
    "* Examine the effect on adjusted R<sup>2</sup> when adding a variable.  If the adjusted R<sup>2</sup> drops, it suggests the new variable may not be adding valuable information.\n",
    "* Examine the regression coefficients and their relative significance.  Your final model should include only significant predictors."
   ]
  },
  {
   "cell_type": "code",
   "execution_count": 28,
   "metadata": {},
   "outputs": [],
   "source": [
    "# split data into X and Y dataframes\n",
    "X = df2[['SQFT']].copy()\n",
    "Y = df2['SOLDFOR'].copy()"
   ]
  },
  {
   "cell_type": "code",
   "execution_count": 29,
   "metadata": {},
   "outputs": [
    {
     "name": "stdout",
     "output_type": "stream",
     "text": [
      "                            OLS Regression Results                            \n",
      "==============================================================================\n",
      "Dep. Variable:                SOLDFOR   R-squared:                       0.079\n",
      "Model:                            OLS   Adj. R-squared:                  0.071\n",
      "Method:                 Least Squares   F-statistic:                     10.28\n",
      "Date:                Tue, 14 Jul 2020   Prob (F-statistic):            0.00173\n",
      "Time:                        14:50:00   Log-Likelihood:                -1603.0\n",
      "No. Observations:                 122   AIC:                             3210.\n",
      "Df Residuals:                     120   BIC:                             3216.\n",
      "Df Model:                           1                                         \n",
      "Covariance Type:            nonrobust                                         \n",
      "==============================================================================\n",
      "                 coef    std err          t      P>|t|      [0.025      0.975]\n",
      "------------------------------------------------------------------------------\n",
      "const       1.488e+05   3.66e+04      4.069      0.000    7.64e+04    2.21e+05\n",
      "SQFT          50.8560     15.865      3.206      0.002      19.445      82.267\n",
      "==============================================================================\n",
      "Omnibus:                        0.078   Durbin-Watson:                   1.391\n",
      "Prob(Omnibus):                  0.962   Jarque-Bera (JB):                0.031\n",
      "Skew:                           0.036   Prob(JB):                        0.984\n",
      "Kurtosis:                       2.969   Cond. No.                     7.51e+03\n",
      "==============================================================================\n",
      "\n",
      "Warnings:\n",
      "[1] Standard Errors assume that the covariance matrix of the errors is correctly specified.\n",
      "[2] The condition number is large, 7.51e+03. This might indicate that there are\n",
      "strong multicollinearity or other numerical problems.\n",
      "\n",
      "Average error: 124040.57.\n"
     ]
    }
   ],
   "source": [
    "# Run regression using statsmodels\n",
    "import statsmodels.api as sm\n",
    "\n",
    "X = sm.add_constant(X) # required if constant expected\n",
    "est = sm.OLS(Y,X).fit() # fit model\n",
    "predictions = est.predict() # get predicted values\n",
    "print(est.summary())\n",
    "print(\"\\nAverage error: {:.2f}.\".format(math.sqrt(est.mse_resid)))"
   ]
  },
  {
   "cell_type": "code",
   "execution_count": 30,
   "metadata": {},
   "outputs": [],
   "source": [
    "# split data into X and Y dataframes\n",
    "X = df2[['SQFT','YRSOLD','ORCHARD','YRBUILT']].copy()\n",
    "Y = df2['SOLDFOR'].copy()"
   ]
  },
  {
   "cell_type": "code",
   "execution_count": 31,
   "metadata": {},
   "outputs": [
    {
     "name": "stdout",
     "output_type": "stream",
     "text": [
      "                            OLS Regression Results                            \n",
      "==============================================================================\n",
      "Dep. Variable:                SOLDFOR   R-squared:                       0.688\n",
      "Model:                            OLS   Adj. R-squared:                  0.677\n",
      "Method:                 Least Squares   F-statistic:                     64.50\n",
      "Date:                Tue, 14 Jul 2020   Prob (F-statistic):           1.06e-28\n",
      "Time:                        14:50:00   Log-Likelihood:                -1536.9\n",
      "No. Observations:                 122   AIC:                             3084.\n",
      "Df Residuals:                     117   BIC:                             3098.\n",
      "Df Model:                           4                                         \n",
      "Covariance Type:            nonrobust                                         \n",
      "==============================================================================\n",
      "                 coef    std err          t      P>|t|      [0.025      0.975]\n",
      "------------------------------------------------------------------------------\n",
      "const      -8.245e+06   1.57e+06     -5.240      0.000   -1.14e+07   -5.13e+06\n",
      "SQFT          44.6343     10.304      4.332      0.000      24.228      65.041\n",
      "YRSOLD      5969.4330    553.271     10.789      0.000    4873.708    7065.158\n",
      "ORCHARD     1.279e+05   2.63e+04      4.869      0.000    7.58e+04     1.8e+05\n",
      "YRBUILT    -1828.2356    539.655     -3.388      0.001   -2896.995    -759.476\n",
      "==============================================================================\n",
      "Omnibus:                        5.661   Durbin-Watson:                   1.947\n",
      "Prob(Omnibus):                  0.059   Jarque-Bera (JB):                5.625\n",
      "Skew:                           0.355   Prob(JB):                       0.0600\n",
      "Kurtosis:                       3.777   Cond. No.                     8.52e+05\n",
      "==============================================================================\n",
      "\n",
      "Warnings:\n",
      "[1] Standard Errors assume that the covariance matrix of the errors is correctly specified.\n",
      "[2] The condition number is large, 8.52e+05. This might indicate that there are\n",
      "strong multicollinearity or other numerical problems.\n",
      "\n",
      "Average error: 73112.42.\n"
     ]
    }
   ],
   "source": [
    "# Run regression using statsmodels\n",
    "import statsmodels.api as sm\n",
    "\n",
    "X = sm.add_constant(X) # required if constant expected\n",
    "est = sm.OLS(Y,X).fit() # fit model\n",
    "predictions = est.predict() # get predicted values\n",
    "print(est.summary())\n",
    "print(\"\\nAverage error: {:.2f}.\".format(math.sqrt(est.mse_resid)))"
   ]
  },
  {
   "cell_type": "code",
   "execution_count": 32,
   "metadata": {
    "scrolled": true
   },
   "outputs": [
    {
     "data": {
      "text/html": [
       "<style  type=\"text/css\" >\n",
       "    #T_d1e9cd66_c602_11ea_9e90_00e03c63f133row0_col0 {\n",
       "            background-color:  #023858;\n",
       "            color:  #f1f1f1;\n",
       "        }    #T_d1e9cd66_c602_11ea_9e90_00e03c63f133row0_col1 {\n",
       "            background-color:  #f4eef6;\n",
       "            color:  #000000;\n",
       "        }    #T_d1e9cd66_c602_11ea_9e90_00e03c63f133row0_col2 {\n",
       "            background-color:  #6ba5cd;\n",
       "            color:  #000000;\n",
       "        }    #T_d1e9cd66_c602_11ea_9e90_00e03c63f133row0_col3 {\n",
       "            background-color:  #a5bddb;\n",
       "            color:  #000000;\n",
       "        }    #T_d1e9cd66_c602_11ea_9e90_00e03c63f133row0_col4 {\n",
       "            background-color:  #79abd0;\n",
       "            color:  #000000;\n",
       "        }    #T_d1e9cd66_c602_11ea_9e90_00e03c63f133row1_col0 {\n",
       "            background-color:  #fff7fb;\n",
       "            color:  #000000;\n",
       "        }    #T_d1e9cd66_c602_11ea_9e90_00e03c63f133row1_col1 {\n",
       "            background-color:  #023858;\n",
       "            color:  #f1f1f1;\n",
       "        }    #T_d1e9cd66_c602_11ea_9e90_00e03c63f133row1_col2 {\n",
       "            background-color:  #94b6d7;\n",
       "            color:  #000000;\n",
       "        }    #T_d1e9cd66_c602_11ea_9e90_00e03c63f133row1_col3 {\n",
       "            background-color:  #dcdaeb;\n",
       "            color:  #000000;\n",
       "        }    #T_d1e9cd66_c602_11ea_9e90_00e03c63f133row1_col4 {\n",
       "            background-color:  #0872b1;\n",
       "            color:  #f1f1f1;\n",
       "        }    #T_d1e9cd66_c602_11ea_9e90_00e03c63f133row2_col0 {\n",
       "            background-color:  #adc1dd;\n",
       "            color:  #000000;\n",
       "        }    #T_d1e9cd66_c602_11ea_9e90_00e03c63f133row2_col1 {\n",
       "            background-color:  #c6cce3;\n",
       "            color:  #000000;\n",
       "        }    #T_d1e9cd66_c602_11ea_9e90_00e03c63f133row2_col2 {\n",
       "            background-color:  #023858;\n",
       "            color:  #f1f1f1;\n",
       "        }    #T_d1e9cd66_c602_11ea_9e90_00e03c63f133row2_col3 {\n",
       "            background-color:  #fff7fb;\n",
       "            color:  #000000;\n",
       "        }    #T_d1e9cd66_c602_11ea_9e90_00e03c63f133row2_col4 {\n",
       "            background-color:  #1c7fb8;\n",
       "            color:  #000000;\n",
       "        }    #T_d1e9cd66_c602_11ea_9e90_00e03c63f133row3_col0 {\n",
       "            background-color:  #e4e1ef;\n",
       "            color:  #000000;\n",
       "        }    #T_d1e9cd66_c602_11ea_9e90_00e03c63f133row3_col1 {\n",
       "            background-color:  #fff7fb;\n",
       "            color:  #000000;\n",
       "        }    #T_d1e9cd66_c602_11ea_9e90_00e03c63f133row3_col2 {\n",
       "            background-color:  #fff7fb;\n",
       "            color:  #000000;\n",
       "        }    #T_d1e9cd66_c602_11ea_9e90_00e03c63f133row3_col3 {\n",
       "            background-color:  #023858;\n",
       "            color:  #f1f1f1;\n",
       "        }    #T_d1e9cd66_c602_11ea_9e90_00e03c63f133row3_col4 {\n",
       "            background-color:  #fff7fb;\n",
       "            color:  #000000;\n",
       "        }    #T_d1e9cd66_c602_11ea_9e90_00e03c63f133row4_col0 {\n",
       "            background-color:  #b7c5df;\n",
       "            color:  #000000;\n",
       "        }    #T_d1e9cd66_c602_11ea_9e90_00e03c63f133row4_col1 {\n",
       "            background-color:  #1e80b8;\n",
       "            color:  #000000;\n",
       "        }    #T_d1e9cd66_c602_11ea_9e90_00e03c63f133row4_col2 {\n",
       "            background-color:  #197db7;\n",
       "            color:  #000000;\n",
       "        }    #T_d1e9cd66_c602_11ea_9e90_00e03c63f133row4_col3 {\n",
       "            background-color:  #fbf4f9;\n",
       "            color:  #000000;\n",
       "        }    #T_d1e9cd66_c602_11ea_9e90_00e03c63f133row4_col4 {\n",
       "            background-color:  #023858;\n",
       "            color:  #f1f1f1;\n",
       "        }</style><table id=\"T_d1e9cd66_c602_11ea_9e90_00e03c63f133\" ><thead>    <tr>        <th class=\"blank level0\" ></th>        <th class=\"col_heading level0 col0\" >SQFT</th>        <th class=\"col_heading level0 col1\" >YRSOLD</th>        <th class=\"col_heading level0 col2\" >ORCHARD</th>        <th class=\"col_heading level0 col3\" >YRBUILT</th>        <th class=\"col_heading level0 col4\" >SOLDFOR</th>    </tr></thead><tbody>\n",
       "                <tr>\n",
       "                        <th id=\"T_d1e9cd66_c602_11ea_9e90_00e03c63f133level0_row0\" class=\"row_heading level0 row0\" >SQFT</th>\n",
       "                        <td id=\"T_d1e9cd66_c602_11ea_9e90_00e03c63f133row0_col0\" class=\"data row0 col0\" >1.000000</td>\n",
       "                        <td id=\"T_d1e9cd66_c602_11ea_9e90_00e03c63f133row0_col1\" class=\"data row0 col1\" >-0.069698</td>\n",
       "                        <td id=\"T_d1e9cd66_c602_11ea_9e90_00e03c63f133row0_col2\" class=\"data row0 col2\" >0.309589</td>\n",
       "                        <td id=\"T_d1e9cd66_c602_11ea_9e90_00e03c63f133row0_col3\" class=\"data row0 col3\" >0.104166</td>\n",
       "                        <td id=\"T_d1e9cd66_c602_11ea_9e90_00e03c63f133row0_col4\" class=\"data row0 col4\" >0.280854</td>\n",
       "            </tr>\n",
       "            <tr>\n",
       "                        <th id=\"T_d1e9cd66_c602_11ea_9e90_00e03c63f133level0_row1\" class=\"row_heading level0 row1\" >YRSOLD</th>\n",
       "                        <td id=\"T_d1e9cd66_c602_11ea_9e90_00e03c63f133row1_col0\" class=\"data row1 col0\" >-0.069698</td>\n",
       "                        <td id=\"T_d1e9cd66_c602_11ea_9e90_00e03c63f133row1_col1\" class=\"data row1 col1\" >1.000000</td>\n",
       "                        <td id=\"T_d1e9cd66_c602_11ea_9e90_00e03c63f133row1_col2\" class=\"data row1 col2\" >0.166118</td>\n",
       "                        <td id=\"T_d1e9cd66_c602_11ea_9e90_00e03c63f133row1_col3\" class=\"data row1 col3\" >-0.154098</td>\n",
       "                        <td id=\"T_d1e9cd66_c602_11ea_9e90_00e03c63f133row1_col4\" class=\"data row1 col4\" >0.635992</td>\n",
       "            </tr>\n",
       "            <tr>\n",
       "                        <th id=\"T_d1e9cd66_c602_11ea_9e90_00e03c63f133level0_row2\" class=\"row_heading level0 row2\" >ORCHARD</th>\n",
       "                        <td id=\"T_d1e9cd66_c602_11ea_9e90_00e03c63f133row2_col0\" class=\"data row2 col0\" >0.309589</td>\n",
       "                        <td id=\"T_d1e9cd66_c602_11ea_9e90_00e03c63f133row2_col1\" class=\"data row2 col1\" >0.166118</td>\n",
       "                        <td id=\"T_d1e9cd66_c602_11ea_9e90_00e03c63f133row2_col2\" class=\"data row2 col2\" >1.000000</td>\n",
       "                        <td id=\"T_d1e9cd66_c602_11ea_9e90_00e03c63f133row2_col3\" class=\"data row2 col3\" >-0.436743</td>\n",
       "                        <td id=\"T_d1e9cd66_c602_11ea_9e90_00e03c63f133row2_col4\" class=\"data row2 col4\" >0.567511</td>\n",
       "            </tr>\n",
       "            <tr>\n",
       "                        <th id=\"T_d1e9cd66_c602_11ea_9e90_00e03c63f133level0_row3\" class=\"row_heading level0 row3\" >YRBUILT</th>\n",
       "                        <td id=\"T_d1e9cd66_c602_11ea_9e90_00e03c63f133row3_col0\" class=\"data row3 col0\" >0.104166</td>\n",
       "                        <td id=\"T_d1e9cd66_c602_11ea_9e90_00e03c63f133row3_col1\" class=\"data row3 col1\" >-0.154098</td>\n",
       "                        <td id=\"T_d1e9cd66_c602_11ea_9e90_00e03c63f133row3_col2\" class=\"data row3 col2\" >-0.436743</td>\n",
       "                        <td id=\"T_d1e9cd66_c602_11ea_9e90_00e03c63f133row3_col3\" class=\"data row3 col3\" >1.000000</td>\n",
       "                        <td id=\"T_d1e9cd66_c602_11ea_9e90_00e03c63f133row3_col4\" class=\"data row3 col4\" >-0.399611</td>\n",
       "            </tr>\n",
       "            <tr>\n",
       "                        <th id=\"T_d1e9cd66_c602_11ea_9e90_00e03c63f133level0_row4\" class=\"row_heading level0 row4\" >SOLDFOR</th>\n",
       "                        <td id=\"T_d1e9cd66_c602_11ea_9e90_00e03c63f133row4_col0\" class=\"data row4 col0\" >0.280854</td>\n",
       "                        <td id=\"T_d1e9cd66_c602_11ea_9e90_00e03c63f133row4_col1\" class=\"data row4 col1\" >0.635992</td>\n",
       "                        <td id=\"T_d1e9cd66_c602_11ea_9e90_00e03c63f133row4_col2\" class=\"data row4 col2\" >0.567511</td>\n",
       "                        <td id=\"T_d1e9cd66_c602_11ea_9e90_00e03c63f133row4_col3\" class=\"data row4 col3\" >-0.399611</td>\n",
       "                        <td id=\"T_d1e9cd66_c602_11ea_9e90_00e03c63f133row4_col4\" class=\"data row4 col4\" >1.000000</td>\n",
       "            </tr>\n",
       "    </tbody></table>"
      ],
      "text/plain": [
       "<pandas.io.formats.style.Styler at 0x2bb4c233988>"
      ]
     },
     "execution_count": 32,
     "metadata": {},
     "output_type": "execute_result"
    }
   ],
   "source": [
    "X = df2[['SQFT','YRSOLD','ORCHARD','YRBUILT','SOLDFOR']].copy()\n",
    "corr = X.corr()\n",
    "corr.style.background_gradient()"
   ]
  },
  {
   "cell_type": "code",
   "execution_count": 33,
   "metadata": {},
   "outputs": [],
   "source": [
    "# split data into X and Y dataframes\n",
    "X = df2[['SQFT']].copy()\n",
    "Y = df2['ZESTIMATE'].copy()"
   ]
  },
  {
   "cell_type": "code",
   "execution_count": 34,
   "metadata": {},
   "outputs": [
    {
     "name": "stdout",
     "output_type": "stream",
     "text": [
      "                            OLS Regression Results                            \n",
      "==============================================================================\n",
      "Dep. Variable:              ZESTIMATE   R-squared:                       0.525\n",
      "Model:                            OLS   Adj. R-squared:                  0.521\n",
      "Method:                 Least Squares   F-statistic:                     132.8\n",
      "Date:                Tue, 14 Jul 2020   Prob (F-statistic):           3.83e-21\n",
      "Time:                        14:50:00   Log-Likelihood:                -1492.7\n",
      "No. Observations:                 122   AIC:                             2989.\n",
      "Df Residuals:                     120   BIC:                             2995.\n",
      "Df Model:                           1                                         \n",
      "Covariance Type:            nonrobust                                         \n",
      "==============================================================================\n",
      "                 coef    std err          t      P>|t|      [0.025      0.975]\n",
      "------------------------------------------------------------------------------\n",
      "const        1.48e+05   1.48e+04      9.992      0.000    1.19e+05    1.77e+05\n",
      "SQFT          74.0259      6.424     11.523      0.000      61.307      86.745\n",
      "==============================================================================\n",
      "Omnibus:                       69.559   Durbin-Watson:                   1.111\n",
      "Prob(Omnibus):                  0.000   Jarque-Bera (JB):              344.553\n",
      "Skew:                           1.957   Prob(JB):                     1.52e-75\n",
      "Kurtosis:                      10.243   Cond. No.                     7.51e+03\n",
      "==============================================================================\n",
      "\n",
      "Warnings:\n",
      "[1] Standard Errors assume that the covariance matrix of the errors is correctly specified.\n",
      "[2] The condition number is large, 7.51e+03. This might indicate that there are\n",
      "strong multicollinearity or other numerical problems.\n",
      "\n",
      "Average error: 50227.51.\n"
     ]
    }
   ],
   "source": [
    "# Run regression using statsmodels\n",
    "import statsmodels.api as sm\n",
    "\n",
    "X = sm.add_constant(X) # required if constant expected\n",
    "est = sm.OLS(Y,X).fit() # fit model\n",
    "predictions = est.predict() # get predicted values\n",
    "print(est.summary())\n",
    "print(\"\\nAverage error: {:.2f}.\".format(math.sqrt(est.mse_resid)))"
   ]
  },
  {
   "cell_type": "code",
   "execution_count": 35,
   "metadata": {},
   "outputs": [],
   "source": [
    "# split data into X and Y dataframes\n",
    "X = df2[['SQFT','ORCHARD']].copy()\n",
    "Y = df2['ZESTIMATE'].copy()"
   ]
  },
  {
   "cell_type": "code",
   "execution_count": 36,
   "metadata": {},
   "outputs": [
    {
     "name": "stdout",
     "output_type": "stream",
     "text": [
      "                            OLS Regression Results                            \n",
      "==============================================================================\n",
      "Dep. Variable:              ZESTIMATE   R-squared:                       0.641\n",
      "Model:                            OLS   Adj. R-squared:                  0.635\n",
      "Method:                 Least Squares   F-statistic:                     106.4\n",
      "Date:                Tue, 14 Jul 2020   Prob (F-statistic):           3.22e-27\n",
      "Time:                        14:50:00   Log-Likelihood:                -1475.6\n",
      "No. Observations:                 122   AIC:                             2957.\n",
      "Df Residuals:                     119   BIC:                             2966.\n",
      "Df Model:                           2                                         \n",
      "Covariance Type:            nonrobust                                         \n",
      "==============================================================================\n",
      "                 coef    std err          t      P>|t|      [0.025      0.975]\n",
      "------------------------------------------------------------------------------\n",
      "const       1.639e+05   1.32e+04     12.435      0.000    1.38e+05     1.9e+05\n",
      "SQFT          62.7006      5.898     10.632      0.000      51.023      74.378\n",
      "ORCHARD     8.393e+04   1.35e+04      6.203      0.000    5.71e+04    1.11e+05\n",
      "==============================================================================\n",
      "Omnibus:                       30.359   Durbin-Watson:                   1.465\n",
      "Prob(Omnibus):                  0.000   Jarque-Bera (JB):               64.396\n",
      "Skew:                           1.011   Prob(JB):                     1.04e-14\n",
      "Kurtosis:                       5.929   Cond. No.                     8.49e+03\n",
      "==============================================================================\n",
      "\n",
      "Warnings:\n",
      "[1] Standard Errors assume that the covariance matrix of the errors is correctly specified.\n",
      "[2] The condition number is large, 8.49e+03. This might indicate that there are\n",
      "strong multicollinearity or other numerical problems.\n",
      "\n",
      "Average error: 43845.53.\n"
     ]
    }
   ],
   "source": [
    "# Run regression using statsmodels\n",
    "import statsmodels.api as sm\n",
    "\n",
    "X = sm.add_constant(X) # required if constant expected\n",
    "est = sm.OLS(Y,X).fit() # fit model\n",
    "predictions = est.predict() # get predicted values\n",
    "print(est.summary())\n",
    "print(\"\\nAverage error: {:.2f}.\".format(math.sqrt(est.mse_resid)))"
   ]
  },
  {
   "cell_type": "code",
   "execution_count": 37,
   "metadata": {},
   "outputs": [],
   "source": [
    "# split data into X and Y dataframes\n",
    "X = df2[['SQFT','ORCHARD']].copy()\n",
    "X['ORCHXSQFT'] = X.ORCHARD * X.SQFT\n",
    "Y = df2['ZESTIMATE'].copy()"
   ]
  },
  {
   "cell_type": "code",
   "execution_count": 38,
   "metadata": {},
   "outputs": [
    {
     "name": "stdout",
     "output_type": "stream",
     "text": [
      "                            OLS Regression Results                            \n",
      "==============================================================================\n",
      "Dep. Variable:              ZESTIMATE   R-squared:                       0.642\n",
      "Model:                            OLS   Adj. R-squared:                  0.632\n",
      "Method:                 Least Squares   F-statistic:                     70.39\n",
      "Date:                Tue, 14 Jul 2020   Prob (F-statistic):           3.62e-26\n",
      "Time:                        14:50:00   Log-Likelihood:                -1475.5\n",
      "No. Observations:                 122   AIC:                             2959.\n",
      "Df Residuals:                     118   BIC:                             2970.\n",
      "Df Model:                           3                                         \n",
      "Covariance Type:            nonrobust                                         \n",
      "==============================================================================\n",
      "                 coef    std err          t      P>|t|      [0.025      0.975]\n",
      "------------------------------------------------------------------------------\n",
      "const        1.66e+05    1.5e+04     11.061      0.000    1.36e+05    1.96e+05\n",
      "SQFT          61.7212      6.798      9.080      0.000      48.260      75.182\n",
      "ORCHARD     7.315e+04   3.92e+04      1.866      0.064   -4462.200    1.51e+05\n",
      "ORCHXSQFT      4.0559     13.833      0.293      0.770     -23.338      31.450\n",
      "==============================================================================\n",
      "Omnibus:                       32.359   Durbin-Watson:                   1.460\n",
      "Prob(Omnibus):                  0.000   Jarque-Bera (JB):               72.120\n",
      "Skew:                           1.057   Prob(JB):                     2.18e-16\n",
      "Kurtosis:                       6.118   Cond. No.                     2.34e+04\n",
      "==============================================================================\n",
      "\n",
      "Warnings:\n",
      "[1] Standard Errors assume that the covariance matrix of the errors is correctly specified.\n",
      "[2] The condition number is large, 2.34e+04. This might indicate that there are\n",
      "strong multicollinearity or other numerical problems.\n",
      "\n",
      "Average error: 44014.90.\n"
     ]
    }
   ],
   "source": [
    "# Run regression using statsmodels\n",
    "import statsmodels.api as sm\n",
    "\n",
    "X = sm.add_constant(X) # required if constant expected\n",
    "est = sm.OLS(Y,X).fit() # fit model\n",
    "predictions = est.predict() # get predicted values\n",
    "print(est.summary())\n",
    "print(\"\\nAverage error: {:.2f}.\".format(math.sqrt(est.mse_resid)))"
   ]
  },
  {
   "cell_type": "code",
   "execution_count": null,
   "metadata": {},
   "outputs": [],
   "source": []
  }
 ],
 "metadata": {
  "kernelspec": {
   "display_name": "Python 3",
   "language": "python",
   "name": "python3"
  },
  "language_info": {
   "codemirror_mode": {
    "name": "ipython",
    "version": 3
   },
   "file_extension": ".py",
   "mimetype": "text/x-python",
   "name": "python",
   "nbconvert_exporter": "python",
   "pygments_lexer": "ipython3",
   "version": "3.7.3"
  }
 },
 "nbformat": 4,
 "nbformat_minor": 4
}
